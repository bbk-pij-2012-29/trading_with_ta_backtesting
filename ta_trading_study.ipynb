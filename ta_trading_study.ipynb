{
  "nbformat": 4,
  "nbformat_minor": 0,
  "metadata": {
    "colab": {
      "name": "ta_trading_study.ipynb",
      "provenance": [],
      "collapsed_sections": []
    },
    "kernelspec": {
      "name": "python3",
      "display_name": "Python 3"
    }
  },
  "cells": [
    {
      "cell_type": "code",
      "metadata": {
        "id": "vuLy7TI5-FF3",
        "outputId": "db661896-b4ad-4696-cc8f-b3cbf310b4cf",
        "colab": {
          "base_uri": "https://localhost:8080/",
          "height": 697
        }
      },
      "source": [
        "!pip install yfinance\n",
        "!pip install ta"
      ],
      "execution_count": null,
      "outputs": [
        {
          "output_type": "stream",
          "text": [
            "Collecting yfinance\n",
            "  Downloading https://files.pythonhosted.org/packages/7a/e8/b9d7104d3a4bf39924799067592d9e59119fcfc900a425a12e80a3123ec8/yfinance-0.1.55.tar.gz\n",
            "Requirement already satisfied: pandas>=0.24 in /usr/local/lib/python3.6/dist-packages (from yfinance) (1.1.2)\n",
            "Requirement already satisfied: numpy>=1.15 in /usr/local/lib/python3.6/dist-packages (from yfinance) (1.18.5)\n",
            "Requirement already satisfied: requests>=2.20 in /usr/local/lib/python3.6/dist-packages (from yfinance) (2.23.0)\n",
            "Requirement already satisfied: multitasking>=0.0.7 in /usr/local/lib/python3.6/dist-packages (from yfinance) (0.0.9)\n",
            "Collecting lxml>=4.5.1\n",
            "\u001b[?25l  Downloading https://files.pythonhosted.org/packages/7e/49/f7c5f4ec1913f37a2ecab69c42f95397416606b35ec3ed9373cc456833de/lxml-4.6.0-cp36-cp36m-manylinux1_x86_64.whl (5.5MB)\n",
            "\u001b[K     |████████████████████████████████| 5.5MB 4.5MB/s \n",
            "\u001b[?25hRequirement already satisfied: pytz>=2017.2 in /usr/local/lib/python3.6/dist-packages (from pandas>=0.24->yfinance) (2018.9)\n",
            "Requirement already satisfied: python-dateutil>=2.7.3 in /usr/local/lib/python3.6/dist-packages (from pandas>=0.24->yfinance) (2.8.1)\n",
            "Requirement already satisfied: urllib3!=1.25.0,!=1.25.1,<1.26,>=1.21.1 in /usr/local/lib/python3.6/dist-packages (from requests>=2.20->yfinance) (1.24.3)\n",
            "Requirement already satisfied: chardet<4,>=3.0.2 in /usr/local/lib/python3.6/dist-packages (from requests>=2.20->yfinance) (3.0.4)\n",
            "Requirement already satisfied: certifi>=2017.4.17 in /usr/local/lib/python3.6/dist-packages (from requests>=2.20->yfinance) (2020.6.20)\n",
            "Requirement already satisfied: idna<3,>=2.5 in /usr/local/lib/python3.6/dist-packages (from requests>=2.20->yfinance) (2.10)\n",
            "Requirement already satisfied: six>=1.5 in /usr/local/lib/python3.6/dist-packages (from python-dateutil>=2.7.3->pandas>=0.24->yfinance) (1.15.0)\n",
            "Building wheels for collected packages: yfinance\n",
            "  Building wheel for yfinance (setup.py) ... \u001b[?25l\u001b[?25hdone\n",
            "  Created wheel for yfinance: filename=yfinance-0.1.55-py2.py3-none-any.whl size=22618 sha256=1effe9a114c4c2c969ee634f6b36c757a50393a7a02a700b6c1b3db919a0804d\n",
            "  Stored in directory: /root/.cache/pip/wheels/04/98/cc/2702a4242d60bdc14f48b4557c427ded1fe92aedf257d4565c\n",
            "Successfully built yfinance\n",
            "Installing collected packages: lxml, yfinance\n",
            "  Found existing installation: lxml 4.2.6\n",
            "    Uninstalling lxml-4.2.6:\n",
            "      Successfully uninstalled lxml-4.2.6\n",
            "Successfully installed lxml-4.6.0 yfinance-0.1.55\n",
            "Collecting ta\n",
            "  Downloading https://files.pythonhosted.org/packages/90/ec/e4f5aea8c7f0f55f92b52ffbafa389ea82f3a10d9cab2760e40af34c5b3f/ta-0.5.25.tar.gz\n",
            "Requirement already satisfied: numpy in /usr/local/lib/python3.6/dist-packages (from ta) (1.18.5)\n",
            "Requirement already satisfied: pandas in /usr/local/lib/python3.6/dist-packages (from ta) (1.1.2)\n",
            "Requirement already satisfied: python-dateutil>=2.7.3 in /usr/local/lib/python3.6/dist-packages (from pandas->ta) (2.8.1)\n",
            "Requirement already satisfied: pytz>=2017.2 in /usr/local/lib/python3.6/dist-packages (from pandas->ta) (2018.9)\n",
            "Requirement already satisfied: six>=1.5 in /usr/local/lib/python3.6/dist-packages (from python-dateutil>=2.7.3->pandas->ta) (1.15.0)\n",
            "Building wheels for collected packages: ta\n",
            "  Building wheel for ta (setup.py) ... \u001b[?25l\u001b[?25hdone\n",
            "  Created wheel for ta: filename=ta-0.5.25-cp36-none-any.whl size=24880 sha256=0c11f0efe2d09373137b284b10a26ad6fd0986995539cd0d967a8a0236fed1f0\n",
            "  Stored in directory: /root/.cache/pip/wheels/2e/93/b7/cf649194508e53cee4145ffb949e9f26877a5a8dd12db9ed5b\n",
            "Successfully built ta\n",
            "Installing collected packages: ta\n",
            "Successfully installed ta-0.5.25\n"
          ],
          "name": "stdout"
        }
      ]
    },
    {
      "cell_type": "code",
      "metadata": {
        "id": "bHH336SkEjAg"
      },
      "source": [
        "import yfinance as yf\n",
        "import ta\n",
        "import pandas as pd\n",
        "from datetime import date, timedelta, datetime\n",
        "from IPython.display import clear_output"
      ],
      "execution_count": null,
      "outputs": []
    },
    {
      "cell_type": "markdown",
      "metadata": {
        "id": "_i6WcVHu6RXd"
      },
      "source": [
        "### Set Up Backtesting Context ###"
      ]
    },
    {
      "cell_type": "code",
      "metadata": {
        "id": "jgD5XtN-6QgE"
      },
      "source": [
        "ticker = 'ISF.L'\n",
        "start_date = '2019-01-01'\n",
        "end_date = '2019-12-31'\n",
        "\n",
        "date_fmt = '%Y-%m-%d'"
      ],
      "execution_count": null,
      "outputs": []
    },
    {
      "cell_type": "markdown",
      "metadata": {
        "id": "KLGsNE-C6r38"
      },
      "source": [
        "### Compute Buffer ###"
      ]
    },
    {
      "cell_type": "code",
      "metadata": {
        "id": "nbxKLVdD6qDk",
        "outputId": "cce62349-9c7f-41e7-8ec9-a77925514a94",
        "colab": {
          "base_uri": "https://localhost:8080/",
          "height": 35
        }
      },
      "source": [
        "start_date_buffer = datetime.strptime(start_date, date_fmt) - timedelta(days=365)\n",
        "start_date_buffer = start_date_buffer.strftime(date_fmt)\n",
        "start_date_buffer"
      ],
      "execution_count": null,
      "outputs": [
        {
          "output_type": "execute_result",
          "data": {
            "application/vnd.google.colaboratory.intrinsic+json": {
              "type": "string"
            },
            "text/plain": [
              "'2018-01-01'"
            ]
          },
          "metadata": {
            "tags": []
          },
          "execution_count": 4
        }
      ]
    },
    {
      "cell_type": "markdown",
      "metadata": {
        "id": "rqoqxpVBHabp"
      },
      "source": [
        "### Get the OHLC and Volume ###"
      ]
    },
    {
      "cell_type": "code",
      "metadata": {
        "id": "xKDBAVzyKZVq",
        "outputId": "0171b0d9-0a7b-45c1-c31a-4a9a05090b31",
        "colab": {
          "base_uri": "https://localhost:8080/",
          "height": 252
        }
      },
      "source": [
        "df = yf.download(ticker, start=start_date_buffer, end=end_date)\n",
        "df.head()"
      ],
      "execution_count": null,
      "outputs": [
        {
          "output_type": "stream",
          "text": [
            "\r[*********************100%***********************]  1 of 1 completed\n"
          ],
          "name": "stdout"
        },
        {
          "output_type": "execute_result",
          "data": {
            "text/html": [
              "<div>\n",
              "<style scoped>\n",
              "    .dataframe tbody tr th:only-of-type {\n",
              "        vertical-align: middle;\n",
              "    }\n",
              "\n",
              "    .dataframe tbody tr th {\n",
              "        vertical-align: top;\n",
              "    }\n",
              "\n",
              "    .dataframe thead th {\n",
              "        text-align: right;\n",
              "    }\n",
              "</style>\n",
              "<table border=\"1\" class=\"dataframe\">\n",
              "  <thead>\n",
              "    <tr style=\"text-align: right;\">\n",
              "      <th></th>\n",
              "      <th>Open</th>\n",
              "      <th>High</th>\n",
              "      <th>Low</th>\n",
              "      <th>Close</th>\n",
              "      <th>Adj Close</th>\n",
              "      <th>Volume</th>\n",
              "    </tr>\n",
              "    <tr>\n",
              "      <th>Date</th>\n",
              "      <th></th>\n",
              "      <th></th>\n",
              "      <th></th>\n",
              "      <th></th>\n",
              "      <th></th>\n",
              "      <th></th>\n",
              "    </tr>\n",
              "  </thead>\n",
              "  <tbody>\n",
              "    <tr>\n",
              "      <th>2018-01-02</th>\n",
              "      <td>7.595</td>\n",
              "      <td>7.595</td>\n",
              "      <td>7.531</td>\n",
              "      <td>7.557</td>\n",
              "      <td>7.216838</td>\n",
              "      <td>4357031</td>\n",
              "    </tr>\n",
              "    <tr>\n",
              "      <th>2018-01-03</th>\n",
              "      <td>7.569</td>\n",
              "      <td>7.591</td>\n",
              "      <td>7.545</td>\n",
              "      <td>7.571</td>\n",
              "      <td>7.230208</td>\n",
              "      <td>4433794</td>\n",
              "    </tr>\n",
              "    <tr>\n",
              "      <th>2018-01-04</th>\n",
              "      <td>7.595</td>\n",
              "      <td>7.602</td>\n",
              "      <td>7.570</td>\n",
              "      <td>7.592</td>\n",
              "      <td>7.250262</td>\n",
              "      <td>4938838</td>\n",
              "    </tr>\n",
              "    <tr>\n",
              "      <th>2018-01-05</th>\n",
              "      <td>7.600</td>\n",
              "      <td>7.629</td>\n",
              "      <td>7.591</td>\n",
              "      <td>7.616</td>\n",
              "      <td>7.273182</td>\n",
              "      <td>11376228</td>\n",
              "    </tr>\n",
              "    <tr>\n",
              "      <th>2018-01-08</th>\n",
              "      <td>7.616</td>\n",
              "      <td>7.622</td>\n",
              "      <td>7.568</td>\n",
              "      <td>7.578</td>\n",
              "      <td>7.236892</td>\n",
              "      <td>32522135</td>\n",
              "    </tr>\n",
              "  </tbody>\n",
              "</table>\n",
              "</div>"
            ],
            "text/plain": [
              "             Open   High    Low  Close  Adj Close    Volume\n",
              "Date                                                       \n",
              "2018-01-02  7.595  7.595  7.531  7.557   7.216838   4357031\n",
              "2018-01-03  7.569  7.591  7.545  7.571   7.230208   4433794\n",
              "2018-01-04  7.595  7.602  7.570  7.592   7.250262   4938838\n",
              "2018-01-05  7.600  7.629  7.591  7.616   7.273182  11376228\n",
              "2018-01-08  7.616  7.622  7.568  7.578   7.236892  32522135"
            ]
          },
          "metadata": {
            "tags": []
          },
          "execution_count": 5
        }
      ]
    },
    {
      "cell_type": "code",
      "metadata": {
        "id": "guXeRW23VByV"
      },
      "source": [
        "def get_stock_backtest_data(ticker, start_date, end_date):\n",
        "  date_fmt = '%Y-%m-%d'\n",
        "\n",
        "  start_date_buffer = datetime.strptime(start_date, date_fmt) - timedelta(days=365)\n",
        "  start_date_buffer = start_date_buffer.strftime(date_fmt)\n",
        "\n",
        "  df = yf.download(ticker, start=start_date_buffer, end=end_date)\n",
        "\n",
        "  return df"
      ],
      "execution_count": null,
      "outputs": []
    },
    {
      "cell_type": "code",
      "metadata": {
        "id": "5FkIUCZOVfmj",
        "outputId": "2fcdf757-7894-4c86-b627-8b26ee3c4576",
        "colab": {
          "base_uri": "https://localhost:8080/",
          "height": 252
        }
      },
      "source": [
        "df = get_stock_backtest_data('ISF.L', '2019-01-01', '2019-12-31')\n",
        "df.head()"
      ],
      "execution_count": null,
      "outputs": [
        {
          "output_type": "stream",
          "text": [
            "\r[*********************100%***********************]  1 of 1 completed\n"
          ],
          "name": "stdout"
        },
        {
          "output_type": "execute_result",
          "data": {
            "text/html": [
              "<div>\n",
              "<style scoped>\n",
              "    .dataframe tbody tr th:only-of-type {\n",
              "        vertical-align: middle;\n",
              "    }\n",
              "\n",
              "    .dataframe tbody tr th {\n",
              "        vertical-align: top;\n",
              "    }\n",
              "\n",
              "    .dataframe thead th {\n",
              "        text-align: right;\n",
              "    }\n",
              "</style>\n",
              "<table border=\"1\" class=\"dataframe\">\n",
              "  <thead>\n",
              "    <tr style=\"text-align: right;\">\n",
              "      <th></th>\n",
              "      <th>Open</th>\n",
              "      <th>High</th>\n",
              "      <th>Low</th>\n",
              "      <th>Close</th>\n",
              "      <th>Adj Close</th>\n",
              "      <th>Volume</th>\n",
              "    </tr>\n",
              "    <tr>\n",
              "      <th>Date</th>\n",
              "      <th></th>\n",
              "      <th></th>\n",
              "      <th></th>\n",
              "      <th></th>\n",
              "      <th></th>\n",
              "      <th></th>\n",
              "    </tr>\n",
              "  </thead>\n",
              "  <tbody>\n",
              "    <tr>\n",
              "      <th>2018-01-02</th>\n",
              "      <td>7.595</td>\n",
              "      <td>7.595</td>\n",
              "      <td>7.531</td>\n",
              "      <td>7.557</td>\n",
              "      <td>7.216838</td>\n",
              "      <td>4357031</td>\n",
              "    </tr>\n",
              "    <tr>\n",
              "      <th>2018-01-03</th>\n",
              "      <td>7.569</td>\n",
              "      <td>7.591</td>\n",
              "      <td>7.545</td>\n",
              "      <td>7.571</td>\n",
              "      <td>7.230208</td>\n",
              "      <td>4433794</td>\n",
              "    </tr>\n",
              "    <tr>\n",
              "      <th>2018-01-04</th>\n",
              "      <td>7.595</td>\n",
              "      <td>7.602</td>\n",
              "      <td>7.570</td>\n",
              "      <td>7.592</td>\n",
              "      <td>7.250262</td>\n",
              "      <td>4938838</td>\n",
              "    </tr>\n",
              "    <tr>\n",
              "      <th>2018-01-05</th>\n",
              "      <td>7.600</td>\n",
              "      <td>7.629</td>\n",
              "      <td>7.591</td>\n",
              "      <td>7.616</td>\n",
              "      <td>7.273182</td>\n",
              "      <td>11376228</td>\n",
              "    </tr>\n",
              "    <tr>\n",
              "      <th>2018-01-08</th>\n",
              "      <td>7.616</td>\n",
              "      <td>7.622</td>\n",
              "      <td>7.568</td>\n",
              "      <td>7.578</td>\n",
              "      <td>7.236892</td>\n",
              "      <td>32522135</td>\n",
              "    </tr>\n",
              "  </tbody>\n",
              "</table>\n",
              "</div>"
            ],
            "text/plain": [
              "             Open   High    Low  Close  Adj Close    Volume\n",
              "Date                                                       \n",
              "2018-01-02  7.595  7.595  7.531  7.557   7.216838   4357031\n",
              "2018-01-03  7.569  7.591  7.545  7.571   7.230208   4433794\n",
              "2018-01-04  7.595  7.602  7.570  7.592   7.250262   4938838\n",
              "2018-01-05  7.600  7.629  7.591  7.616   7.273182  11376228\n",
              "2018-01-08  7.616  7.622  7.568  7.578   7.236892  32522135"
            ]
          },
          "metadata": {
            "tags": []
          },
          "execution_count": 75
        }
      ]
    },
    {
      "cell_type": "code",
      "metadata": {
        "id": "oon37ZMA_SUL"
      },
      "source": [
        "class StockBacktestData:\n",
        "  def __init__(self, ticker, start_date, end_date):\n",
        "    self._ticker = ticker\n",
        "    self._backtest_start_buffer_days = 365\n",
        "    self._buffer_days = 90\n",
        "\n",
        "    init_start_date, init_end_date = self._get_buffer_start_end_dates(start_date, end_date)\n",
        "    self._data = self._download_stock_backtest_data(self._ticker, init_start_date, init_end_date)\n",
        "\n",
        "  \n",
        "  def _get_buffer_start_end_dates(self, start_date, end_date):\n",
        "    date_fmt = '%Y-%m-%d'\n",
        "    init_start_date = datetime.strptime(start_date, date_fmt) - timedelta(\n",
        "        days=(self._backtest_start_buffer_days + self._buffer_days)\n",
        "        )\n",
        "    \n",
        "    init_start_date = init_start_date.strftime(date_fmt)\n",
        "\n",
        "    init_end_date = datetime.strptime(end_date, date_fmt) + timedelta(days=self._buffer_days)\n",
        "\n",
        "    if init_end_date > datetime.today():\n",
        "      init_end_date = datetime.today()\n",
        "\n",
        "    init_end_date = init_end_date.strftime(date_fmt)\n",
        "\n",
        "    return init_start_date, init_end_date\n",
        "\n",
        "\n",
        "  def _get_backtest_start_date(self, start_date):\n",
        "    date_fmt = '%Y-%m-%d'\n",
        "    start_date_buffer = datetime.strptime(start_date, date_fmt) - timedelta(\n",
        "        days=self._backtest_start_buffer_days\n",
        "        )\n",
        "    \n",
        "    start_date_buffer = start_date_buffer.strftime(date_fmt)\n",
        "    return start_date_buffer\n",
        "\n",
        "\n",
        "  def _download_stock_backtest_data(self, ticker, start_date, end_date):\n",
        "    df = yf.download(ticker, start=start_date, end=end_date)\n",
        "    return df\n",
        "\n",
        "\n",
        "  def get_stock_backtest_data(self, start_date, end_date):\n",
        "    start_date_buffer = self._get_backtest_start_date(start_date)\n",
        "    df = self._data[(self._data.index >= start_date_buffer) & (self._data.index <= end_date)]\n",
        "    return df.copy()"
      ],
      "execution_count": null,
      "outputs": []
    },
    {
      "cell_type": "markdown",
      "metadata": {
        "id": "THHgpurH2LKt"
      },
      "source": [
        "### K Band First Example\n",
        "\n",
        "- Long: Close cross below K Band Lower Bound\n",
        "- Short: Close cross above K Band upper Bound"
      ]
    },
    {
      "cell_type": "code",
      "metadata": {
        "id": "1J2BEOLgHl8q",
        "outputId": "29ef8b4d-902a-4219-8bd8-511c436be802",
        "colab": {
          "base_uri": "https://localhost:8080/",
          "height": 235
        }
      },
      "source": [
        "k_band = ta.volatility.KeltnerChannel(df.High, df.Low, df.Close, 10)\n",
        "\n",
        "df['K_BAND_UB'] = k_band.keltner_channel_hband().round(4)\n",
        "df['K_BAND_LB'] = k_band.keltner_channel_lband().round(4)\n",
        "\n",
        "df[['K_BAND_UB', 'K_BAND_LB']].dropna().head()"
      ],
      "execution_count": null,
      "outputs": [
        {
          "output_type": "execute_result",
          "data": {
            "text/html": [
              "<div>\n",
              "<style scoped>\n",
              "    .dataframe tbody tr th:only-of-type {\n",
              "        vertical-align: middle;\n",
              "    }\n",
              "\n",
              "    .dataframe tbody tr th {\n",
              "        vertical-align: top;\n",
              "    }\n",
              "\n",
              "    .dataframe thead th {\n",
              "        text-align: right;\n",
              "    }\n",
              "</style>\n",
              "<table border=\"1\" class=\"dataframe\">\n",
              "  <thead>\n",
              "    <tr style=\"text-align: right;\">\n",
              "      <th></th>\n",
              "      <th>K_BAND_UB</th>\n",
              "      <th>K_BAND_LB</th>\n",
              "    </tr>\n",
              "    <tr>\n",
              "      <th>Date</th>\n",
              "      <th></th>\n",
              "      <th></th>\n",
              "    </tr>\n",
              "  </thead>\n",
              "  <tbody>\n",
              "    <tr>\n",
              "      <th>2018-01-02</th>\n",
              "      <td>7.6250</td>\n",
              "      <td>7.4970</td>\n",
              "    </tr>\n",
              "    <tr>\n",
              "      <th>2018-01-03</th>\n",
              "      <td>7.6200</td>\n",
              "      <td>7.5100</td>\n",
              "    </tr>\n",
              "    <tr>\n",
              "      <th>2018-01-04</th>\n",
              "      <td>7.6200</td>\n",
              "      <td>7.5253</td>\n",
              "    </tr>\n",
              "    <tr>\n",
              "      <th>2018-01-05</th>\n",
              "      <td>7.6275</td>\n",
              "      <td>7.5375</td>\n",
              "    </tr>\n",
              "    <tr>\n",
              "      <th>2018-01-08</th>\n",
              "      <td>7.6307</td>\n",
              "      <td>7.5371</td>\n",
              "    </tr>\n",
              "  </tbody>\n",
              "</table>\n",
              "</div>"
            ],
            "text/plain": [
              "            K_BAND_UB  K_BAND_LB\n",
              "Date                            \n",
              "2018-01-02     7.6250     7.4970\n",
              "2018-01-03     7.6200     7.5100\n",
              "2018-01-04     7.6200     7.5253\n",
              "2018-01-05     7.6275     7.5375\n",
              "2018-01-08     7.6307     7.5371"
            ]
          },
          "metadata": {
            "tags": []
          },
          "execution_count": 8
        }
      ]
    },
    {
      "cell_type": "code",
      "metadata": {
        "id": "Jjhzauta2cGX",
        "outputId": "0e01c951-1b44-41b0-a250-94539a482ab4",
        "colab": {
          "base_uri": "https://localhost:8080/",
          "height": 227
        }
      },
      "source": [
        "df['CLOSE_PREV'] = df.Close.shift(1)\n",
        "\n",
        "df['LONG'] = (df.Close <= df.K_BAND_LB) & (df.CLOSE_PREV > df.K_BAND_LB)\n",
        "df['EXIT_LONG'] = (df.Close >= df.K_BAND_UB) & (df.CLOSE_PREV < df.K_BAND_UB)\n",
        "\n",
        "df['SHORT'] = (df.Close >= df.K_BAND_UB) & (df.CLOSE_PREV < df.K_BAND_UB)\n",
        "df['EXIT_SHORT'] = (df.Close <= df.K_BAND_LB) & (df.CLOSE_PREV > df.K_BAND_LB)\n",
        "\n",
        "df.LONG = df.LONG.shift(1)\n",
        "df.EXIT_LONG = df.EXIT_LONG.shift(1)\n",
        "df.SHORT = df.SHORT.shift(1)\n",
        "df.EXIT_SHORT = df.EXIT_SHORT.shift(1)\n",
        "\n",
        "df[['LONG', 'EXIT_LONG', 'SHORT', 'EXIT_SHORT']].dropna().head()"
      ],
      "execution_count": null,
      "outputs": [
        {
          "output_type": "execute_result",
          "data": {
            "text/html": [
              "<div>\n",
              "<style scoped>\n",
              "    .dataframe tbody tr th:only-of-type {\n",
              "        vertical-align: middle;\n",
              "    }\n",
              "\n",
              "    .dataframe tbody tr th {\n",
              "        vertical-align: top;\n",
              "    }\n",
              "\n",
              "    .dataframe thead th {\n",
              "        text-align: right;\n",
              "    }\n",
              "</style>\n",
              "<table border=\"1\" class=\"dataframe\">\n",
              "  <thead>\n",
              "    <tr style=\"text-align: right;\">\n",
              "      <th></th>\n",
              "      <th>LONG</th>\n",
              "      <th>EXIT_LONG</th>\n",
              "      <th>SHORT</th>\n",
              "      <th>EXIT_SHORT</th>\n",
              "    </tr>\n",
              "    <tr>\n",
              "      <th>Date</th>\n",
              "      <th></th>\n",
              "      <th></th>\n",
              "      <th></th>\n",
              "      <th></th>\n",
              "    </tr>\n",
              "  </thead>\n",
              "  <tbody>\n",
              "    <tr>\n",
              "      <th>2018-01-03</th>\n",
              "      <td>False</td>\n",
              "      <td>False</td>\n",
              "      <td>False</td>\n",
              "      <td>False</td>\n",
              "    </tr>\n",
              "    <tr>\n",
              "      <th>2018-01-04</th>\n",
              "      <td>False</td>\n",
              "      <td>False</td>\n",
              "      <td>False</td>\n",
              "      <td>False</td>\n",
              "    </tr>\n",
              "    <tr>\n",
              "      <th>2018-01-05</th>\n",
              "      <td>False</td>\n",
              "      <td>False</td>\n",
              "      <td>False</td>\n",
              "      <td>False</td>\n",
              "    </tr>\n",
              "    <tr>\n",
              "      <th>2018-01-08</th>\n",
              "      <td>False</td>\n",
              "      <td>False</td>\n",
              "      <td>False</td>\n",
              "      <td>False</td>\n",
              "    </tr>\n",
              "    <tr>\n",
              "      <th>2018-01-09</th>\n",
              "      <td>False</td>\n",
              "      <td>False</td>\n",
              "      <td>False</td>\n",
              "      <td>False</td>\n",
              "    </tr>\n",
              "  </tbody>\n",
              "</table>\n",
              "</div>"
            ],
            "text/plain": [
              "             LONG EXIT_LONG  SHORT EXIT_SHORT\n",
              "Date                                         \n",
              "2018-01-03  False     False  False      False\n",
              "2018-01-04  False     False  False      False\n",
              "2018-01-05  False     False  False      False\n",
              "2018-01-08  False     False  False      False\n",
              "2018-01-09  False     False  False      False"
            ]
          },
          "metadata": {
            "tags": []
          },
          "execution_count": 9
        }
      ]
    },
    {
      "cell_type": "code",
      "metadata": {
        "id": "4bf8XA6PWXXn"
      },
      "source": [
        "def strategy_KeltnerChannel_origin(df, **kwargs):\n",
        "  n = kwargs.get('n', 10)\n",
        "  data = df.copy()\n",
        "\n",
        "  k_band = ta.volatility.KeltnerChannel(data.High, data.Low, data.Close, n)\n",
        "\n",
        "  data['K_BAND_UB'] = k_band.keltner_channel_hband().round(4)\n",
        "  data['K_BAND_LB'] = k_band.keltner_channel_lband().round(4)\n",
        "\n",
        "  data['CLOSE_PREV'] = data.Close.shift(1)\n",
        "  \n",
        "  data['LONG'] = (data.Close <= data.K_BAND_LB) & (data.CLOSE_PREV > data.K_BAND_LB)\n",
        "  data['EXIT_LONG'] = (data.Close >= data.K_BAND_UB) & (data.CLOSE_PREV < data.K_BAND_UB)\n",
        "\n",
        "  data['SHORT'] = (data.Close >= data.K_BAND_UB) & (data.CLOSE_PREV < data.K_BAND_UB)\n",
        "  data['EXIT_SHORT'] = (data.Close <= data.K_BAND_LB) & (data.CLOSE_PREV > data.K_BAND_LB)\n",
        "\n",
        "  data.LONG = data.LONG.shift(1)\n",
        "  data.EXIT_LONG = data.EXIT_LONG.shift(1)\n",
        "  data.SHORT = data.SHORT.shift(1)\n",
        "  data.EXIT_SHORT = data.EXIT_SHORT.shift(1)\n",
        "\n",
        "  return data\n",
        "\n",
        "\n",
        "def strategy_KeltnerChannel_origin_long(df, **kwargs):\n",
        "  n = kwargs.get('n', 10)\n",
        "  data = df.copy()\n",
        "\n",
        "  k_band = ta.volatility.KeltnerChannel(data.High, data.Low, data.Close, n)\n",
        "\n",
        "  data['K_BAND_UB'] = k_band.keltner_channel_hband().round(4)\n",
        "  data['K_BAND_LB'] = k_band.keltner_channel_lband().round(4)\n",
        "\n",
        "  data['CLOSE_PREV'] = data.Close.shift(1)\n",
        "  \n",
        "  data['LONG'] = (data.Close <= data.K_BAND_LB) & (data.CLOSE_PREV > data.K_BAND_LB)\n",
        "  data['EXIT_LONG'] = (data.Close >= data.K_BAND_UB) & (data.CLOSE_PREV < data.K_BAND_UB)\n",
        "\n",
        "  data['SHORT'] = False\n",
        "  data['EXIT_SHORT'] = False\n",
        "\n",
        "  data.LONG = data.LONG.shift(1)\n",
        "  data.EXIT_LONG = data.EXIT_LONG.shift(1)\n",
        "  \n",
        "  data.SHORT = data.SHORT.shift(1)\n",
        "  data.EXIT_SHORT = data.EXIT_SHORT.shift(1)\n",
        "\n",
        "  return data"
      ],
      "execution_count": null,
      "outputs": []
    },
    {
      "cell_type": "code",
      "metadata": {
        "id": "OUvtwBDgaf6J",
        "outputId": "289378cb-4731-432a-faf4-1e6fb752bb06",
        "colab": {
          "base_uri": "https://localhost:8080/",
          "height": 235
        }
      },
      "source": [
        "df = strategy_KeltnerChannel_origin(df, n=10)\n",
        "df.head()"
      ],
      "execution_count": null,
      "outputs": [
        {
          "output_type": "execute_result",
          "data": {
            "text/html": [
              "<div>\n",
              "<style scoped>\n",
              "    .dataframe tbody tr th:only-of-type {\n",
              "        vertical-align: middle;\n",
              "    }\n",
              "\n",
              "    .dataframe tbody tr th {\n",
              "        vertical-align: top;\n",
              "    }\n",
              "\n",
              "    .dataframe thead th {\n",
              "        text-align: right;\n",
              "    }\n",
              "</style>\n",
              "<table border=\"1\" class=\"dataframe\">\n",
              "  <thead>\n",
              "    <tr style=\"text-align: right;\">\n",
              "      <th></th>\n",
              "      <th>Open</th>\n",
              "      <th>High</th>\n",
              "      <th>Low</th>\n",
              "      <th>Close</th>\n",
              "      <th>Adj Close</th>\n",
              "      <th>Volume</th>\n",
              "      <th>K_BAND_UB</th>\n",
              "      <th>K_BAND_LB</th>\n",
              "      <th>CLOSE_PREV</th>\n",
              "      <th>LONG</th>\n",
              "      <th>EXIT_LONG</th>\n",
              "      <th>SHORT</th>\n",
              "      <th>EXIT_SHORT</th>\n",
              "    </tr>\n",
              "    <tr>\n",
              "      <th>Date</th>\n",
              "      <th></th>\n",
              "      <th></th>\n",
              "      <th></th>\n",
              "      <th></th>\n",
              "      <th></th>\n",
              "      <th></th>\n",
              "      <th></th>\n",
              "      <th></th>\n",
              "      <th></th>\n",
              "      <th></th>\n",
              "      <th></th>\n",
              "      <th></th>\n",
              "      <th></th>\n",
              "    </tr>\n",
              "  </thead>\n",
              "  <tbody>\n",
              "    <tr>\n",
              "      <th>2018-01-02</th>\n",
              "      <td>7.595</td>\n",
              "      <td>7.595</td>\n",
              "      <td>7.531</td>\n",
              "      <td>7.557</td>\n",
              "      <td>7.216838</td>\n",
              "      <td>4357031</td>\n",
              "      <td>7.6250</td>\n",
              "      <td>7.4970</td>\n",
              "      <td>NaN</td>\n",
              "      <td>NaN</td>\n",
              "      <td>NaN</td>\n",
              "      <td>NaN</td>\n",
              "      <td>NaN</td>\n",
              "    </tr>\n",
              "    <tr>\n",
              "      <th>2018-01-03</th>\n",
              "      <td>7.569</td>\n",
              "      <td>7.591</td>\n",
              "      <td>7.545</td>\n",
              "      <td>7.571</td>\n",
              "      <td>7.230208</td>\n",
              "      <td>4433794</td>\n",
              "      <td>7.6200</td>\n",
              "      <td>7.5100</td>\n",
              "      <td>7.557</td>\n",
              "      <td>False</td>\n",
              "      <td>False</td>\n",
              "      <td>False</td>\n",
              "      <td>False</td>\n",
              "    </tr>\n",
              "    <tr>\n",
              "      <th>2018-01-04</th>\n",
              "      <td>7.595</td>\n",
              "      <td>7.602</td>\n",
              "      <td>7.570</td>\n",
              "      <td>7.592</td>\n",
              "      <td>7.250262</td>\n",
              "      <td>4938838</td>\n",
              "      <td>7.6200</td>\n",
              "      <td>7.5253</td>\n",
              "      <td>7.571</td>\n",
              "      <td>False</td>\n",
              "      <td>False</td>\n",
              "      <td>False</td>\n",
              "      <td>False</td>\n",
              "    </tr>\n",
              "    <tr>\n",
              "      <th>2018-01-05</th>\n",
              "      <td>7.600</td>\n",
              "      <td>7.629</td>\n",
              "      <td>7.591</td>\n",
              "      <td>7.616</td>\n",
              "      <td>7.273182</td>\n",
              "      <td>11376228</td>\n",
              "      <td>7.6275</td>\n",
              "      <td>7.5375</td>\n",
              "      <td>7.592</td>\n",
              "      <td>False</td>\n",
              "      <td>False</td>\n",
              "      <td>False</td>\n",
              "      <td>False</td>\n",
              "    </tr>\n",
              "    <tr>\n",
              "      <th>2018-01-08</th>\n",
              "      <td>7.616</td>\n",
              "      <td>7.622</td>\n",
              "      <td>7.568</td>\n",
              "      <td>7.578</td>\n",
              "      <td>7.236892</td>\n",
              "      <td>32522135</td>\n",
              "      <td>7.6307</td>\n",
              "      <td>7.5371</td>\n",
              "      <td>7.616</td>\n",
              "      <td>False</td>\n",
              "      <td>False</td>\n",
              "      <td>False</td>\n",
              "      <td>False</td>\n",
              "    </tr>\n",
              "  </tbody>\n",
              "</table>\n",
              "</div>"
            ],
            "text/plain": [
              "             Open   High    Low  Close  ...   LONG  EXIT_LONG  SHORT  EXIT_SHORT\n",
              "Date                                    ...                                     \n",
              "2018-01-02  7.595  7.595  7.531  7.557  ...    NaN        NaN    NaN         NaN\n",
              "2018-01-03  7.569  7.591  7.545  7.571  ...  False      False  False       False\n",
              "2018-01-04  7.595  7.602  7.570  7.592  ...  False      False  False       False\n",
              "2018-01-05  7.600  7.629  7.591  7.616  ...  False      False  False       False\n",
              "2018-01-08  7.616  7.622  7.568  7.578  ...  False      False  False       False\n",
              "\n",
              "[5 rows x 13 columns]"
            ]
          },
          "metadata": {
            "tags": []
          },
          "execution_count": 11
        }
      ]
    },
    {
      "cell_type": "markdown",
      "metadata": {
        "id": "UaolFih1xh7W"
      },
      "source": [
        "### Define more strategies\n",
        "\n",
        "- Boll 20 2 2\n",
        "- Simple MA 50\n",
        "- EMA 50\n",
        "- MACD 12 26 9\n",
        "- RSI 14\n",
        "- WR 14\n",
        "- Stochastic Fast 20 5 5 3\n",
        "- Stochastic Slow 20 5 5 3\n",
        "- Ichimoku 9 26 26 26\n"
      ]
    },
    {
      "cell_type": "code",
      "metadata": {
        "id": "KXUDTP-Z08Pm"
      },
      "source": [
        "def strategy_BollingerBands(df, **kwargs):\n",
        "  n = kwargs.get('n', 10)\n",
        "  n_rng = kwargs.get('n_rng', 2)\n",
        "  data = df.copy()\n",
        "\n",
        "  boll = ta.volatility.BollingerBands(data.Close, n, n_rng)\n",
        "\n",
        "  data['BOLL_LBAND_INDI'] = boll.bollinger_lband_indicator()\n",
        "  data['BOLL_UBAND_INDI'] = boll.bollinger_hband_indicator()\n",
        "\n",
        "  data['CLOSE_PREV'] = data.Close.shift(1)\n",
        "\n",
        "  data['LONG'] = data.BOLL_LBAND_INDI == 1\n",
        "  data['EXIT_LONG'] = data.BOLL_UBAND_INDI == 1\n",
        "\n",
        "  data['SHORT'] = data.BOLL_UBAND_INDI == 1\n",
        "  data['EXIT_SHORT'] = data.BOLL_LBAND_INDI == 1\n",
        "\n",
        "  data.LONG = data.LONG.shift(1)\n",
        "  data.EXIT_LONG = data.EXIT_LONG.shift(1)\n",
        "  data.SHORT = data.SHORT.shift(1)\n",
        "  data.EXIT_SHORT = data.EXIT_SHORT.shift(1)\n",
        "\n",
        "  return data\n",
        "\n",
        "\n",
        "def strategy_BollingerBands_long(df, **kwargs):\n",
        "  n = kwargs.get('n', 10)\n",
        "  n_rng = kwargs.get('n_rng', 2)\n",
        "  data = df.copy()\n",
        "  \n",
        "  boll = ta.volatility.BollingerBands(data.Close, n, n_rng)\n",
        "\n",
        "  data['BOLL_LBAND_INDI'] = boll.bollinger_lband_indicator()\n",
        "  data['BOLL_UBAND_INDI'] = boll.bollinger_hband_indicator()\n",
        "\n",
        "  data['CLOSE_PREV'] = data.Close.shift(1)\n",
        "\n",
        "  data['LONG'] = data.BOLL_LBAND_INDI == 1\n",
        "  data['EXIT_LONG'] = data.BOLL_UBAND_INDI == 1\n",
        "\n",
        "  data['SHORT'] = False\n",
        "  data['EXIT_SHORT'] = False\n",
        "\n",
        "  data.LONG = data.LONG.shift(1)\n",
        "  data.EXIT_LONG = data.EXIT_LONG.shift(1)\n",
        "\n",
        "  data.SHORT = data.SHORT.shift(1)\n",
        "  data.EXIT_SHORT = data.EXIT_SHORT.shift(1)\n",
        "\n",
        "  return data\n",
        "\n",
        "# df = get_stock_backtest_data('ISF.L', '2019-01-01', '2019-12-31')\n",
        "# strategy_BollingerBands(df, n=10, n_rng=2)"
      ],
      "execution_count": null,
      "outputs": []
    },
    {
      "cell_type": "code",
      "metadata": {
        "id": "ieBgpx2j3eRd"
      },
      "source": [
        "def strategy_MA(df, **kwargs):\n",
        "  n = kwargs.get('n', 50)\n",
        "  ma_type = kwargs.get('ma_type', 'sma')\n",
        "  ma_type = ma_type.strip().lower()\n",
        "  data = df.copy()\n",
        "  \n",
        "  if ma_type == 'sma':\n",
        "    sma = ta.trend.SMAIndicator(data.Close, n)\n",
        "    data['MA'] = sma.sma_indicator().round(4)\n",
        "  elif ma_type == 'ema':\n",
        "    ema = ta.trend.EMAIndicator(data.Close, n)\n",
        "    data['MA'] = ema.ema_indicator().round(4)\n",
        "\n",
        "  data['CLOSE_PREV'] = data.Close.shift(1)\n",
        "\n",
        "  data['LONG'] = (data.Close > data.MA) & (data.CLOSE_PREV <= data.MA)\n",
        "  data['EXIT_LONG'] = (data.Close < data.MA) & (data.CLOSE_PREV >= data.MA)\n",
        "\n",
        "  data['SHORT'] = (data.Close < data.MA) & (data.CLOSE_PREV >= data.MA)\n",
        "  data['EXIT_SHORT'] = (data.Close > data.MA) & (data.CLOSE_PREV <= data.MA)\n",
        "\n",
        "  data.LONG = data.LONG.shift(1)\n",
        "  data.EXIT_LONG = data.EXIT_LONG.shift(1)\n",
        "  data.SHORT = data.SHORT.shift(1)\n",
        "  data.EXIT_SHORT = data.EXIT_SHORT.shift(1)\n",
        "\n",
        "  return data\n",
        "\n",
        "\n",
        "def strategy_MA_long(df, **kwargs):\n",
        "  n = kwargs.get('n', 50)\n",
        "  ma_type = kwargs.get('ma_type', 'sma')\n",
        "  ma_type = ma_type.strip().lower()\n",
        "  data = df.copy()\n",
        "  \n",
        "  if ma_type == 'sma':\n",
        "    sma = ta.trend.SMAIndicator(data.Close, n)\n",
        "    data['MA'] = sma.sma_indicator().round(4)\n",
        "  elif ma_type == 'ema':\n",
        "    ema = ta.trend.EMAIndicator(data.Close, n)\n",
        "    data['MA'] = ema.ema_indicator().round(4)\n",
        "\n",
        "  data['CLOSE_PREV'] = data.Close.shift(1)\n",
        "\n",
        "  data['LONG'] = (data.Close > data.MA) & (data.CLOSE_PREV <= data.MA)\n",
        "  data['EXIT_LONG'] = (data.Close < data.MA) & (data.CLOSE_PREV >= data.MA)\n",
        "\n",
        "  data['SHORT'] = False\n",
        "  data['EXIT_SHORT'] = False\n",
        "\n",
        "  data.LONG = data.LONG.shift(1)\n",
        "  data.EXIT_LONG = data.EXIT_LONG.shift(1)\n",
        "\n",
        "  data.SHORT = data.SHORT.shift(1)\n",
        "  data.EXIT_SHORT = data.EXIT_SHORT.shift(1)\n",
        "\n",
        "  return data\n",
        "\n",
        "\n",
        "# df = get_stock_backtest_data('ISF.L', '2019-01-01', '2019-12-31')\n",
        "# strategy_SMA(df, n=10, ma_type='ema')"
      ],
      "execution_count": null,
      "outputs": []
    },
    {
      "cell_type": "code",
      "metadata": {
        "id": "7GPl4ADM6--f"
      },
      "source": [
        "def strategy_MACD(df, **kwargs):\n",
        "  n_slow = kwargs.get('n_slow', 26)\n",
        "  n_fast = kwargs.get('n_fast', 12)\n",
        "  n_sign = kwargs.get('n_sign', 9)\n",
        "  data = df.copy()\n",
        "\n",
        "  macd = ta.trend.MACD(data.Close, n_slow, n_fast, n_sign)\n",
        "\n",
        "  data['MACD_DIFF'] = macd.macd_diff().round(4)\n",
        "  data['MACD_DIFF_PREV'] = data.MACD_DIFF.shift(1)\n",
        "\n",
        "  data['LONG'] = (data.MACD_DIFF > 0) & (data.MACD_DIFF_PREV <= 0)\n",
        "  data['EXIT_LONG'] = (data.MACD_DIFF < 0) & (data.MACD_DIFF_PREV >= 0)\n",
        "\n",
        "  data['SHORT'] = (data.MACD_DIFF < 0) & (data.MACD_DIFF_PREV >= 0)\n",
        "  data['EXIT_SHORT'] = (data.MACD_DIFF > 0) & (data.MACD_DIFF_PREV <= 0)\n",
        "\n",
        "  data.LONG = data.LONG.shift(1)\n",
        "  data.EXIT_LONG = data.EXIT_LONG.shift(1)\n",
        "  data.SHORT = data.SHORT.shift(1)\n",
        "  data.EXIT_SHORT = data.EXIT_SHORT.shift(1)\n",
        "\n",
        "  return data\n",
        "\n",
        "\n",
        "def strategy_MACD_long(df, **kwargs):\n",
        "  n_slow = kwargs.get('n_slow', 26)\n",
        "  n_fast = kwargs.get('n_fast', 12)\n",
        "  n_sign = kwargs.get('n_sign', 9)\n",
        "  data = df.copy()\n",
        "\n",
        "  macd = ta.trend.MACD(data.Close, n_slow, n_fast, n_sign)\n",
        "\n",
        "  data['MACD_DIFF'] = macd.macd_diff().round(4)\n",
        "  data['MACD_DIFF_PREV'] = data.MACD_DIFF.shift(1)\n",
        "\n",
        "  data['LONG'] = (data.MACD_DIFF > 0) & (data.MACD_DIFF_PREV <= 0)\n",
        "  data['EXIT_LONG'] = (data.MACD_DIFF < 0) & (data.MACD_DIFF_PREV >= 0)\n",
        "\n",
        "  data['SHORT'] = False\n",
        "  data['EXIT_SHORT'] = False\n",
        "\n",
        "  data.LONG = data.LONG.shift(1)\n",
        "  data.EXIT_LONG = data.EXIT_LONG.shift(1)\n",
        "\n",
        "  data.SHORT = data.SHORT.shift(1)\n",
        "  data.EXIT_SHORT = data.EXIT_SHORT.shift(1)\n",
        "\n",
        "  return data\n",
        "\n",
        "# df = get_stock_backtest_data('ISF.L', '2019-01-01', '2019-12-31')\n",
        "# strategy_MACD(df, n_slow=26, n_fast=12, n_sign=9)"
      ],
      "execution_count": null,
      "outputs": []
    },
    {
      "cell_type": "code",
      "metadata": {
        "id": "9Q0RcGX8_1jU"
      },
      "source": [
        "def strategy_RSI(df, **kwargs):\n",
        "  n = kwargs.get('n', 14)\n",
        "  data = df.copy()\n",
        "\n",
        "  rsi = ta.momentum.RSIIndicator(data.Close, n)\n",
        "\n",
        "  data['RSI'] = rsi.rsi().round(4)\n",
        "  data['RSI_PREV'] = data.RSI.shift(1)\n",
        "\n",
        "  data['LONG'] = (data.RSI > 30) & (data.RSI_PREV <= 30)\n",
        "  data['EXIT_LONG'] = (data.RSI < 70) & (data.RSI_PREV >= 70)\n",
        "\n",
        "  data['SHORT'] = (data.RSI < 70) & (data.RSI_PREV >= 70)\n",
        "  data['EXIT_SHORT'] = (data.RSI > 30) & (data.RSI_PREV <= 30)\n",
        "\n",
        "  data.LONG = data.LONG.shift(1)\n",
        "  data.EXIT_LONG = data.EXIT_LONG.shift(1)\n",
        "  data.SHORT = data.SHORT.shift(1)\n",
        "  data.EXIT_SHORT = data.EXIT_SHORT.shift(1)\n",
        "\n",
        "  return data\n",
        "\n",
        "\n",
        "def strategy_RSI_long(df, **kwargs):\n",
        "  n = kwargs.get('n', 14)\n",
        "  data = df.copy()\n",
        "\n",
        "  rsi = ta.momentum.RSIIndicator(data.Close, n)\n",
        "\n",
        "  data['RSI'] = rsi.rsi().round(4)\n",
        "  data['RSI_PREV'] = data.RSI.shift(1)\n",
        "\n",
        "  data['LONG'] = (data.RSI > 30) & (data.RSI_PREV <= 30)\n",
        "  data['EXIT_LONG'] = (data.RSI < 70) & (data.RSI_PREV >= 70)\n",
        "\n",
        "  data['SHORT'] = False\n",
        "  data['EXIT_SHORT'] = False\n",
        "\n",
        "  data.LONG = data.LONG.shift(1)\n",
        "  data.EXIT_LONG = data.EXIT_LONG.shift(1)\n",
        "\n",
        "  data.SHORT = data.SHORT.shift(1)\n",
        "  data.EXIT_SHORT = data.EXIT_SHORT.shift(1)\n",
        "\n",
        "  return data\n",
        "\n",
        "# df = get_stock_backtest_data('ISF.L', '2019-01-01', '2019-12-31')\n",
        "# strategy_RSI(df, n_slow=26, n_fast=12, n_sign=9)"
      ],
      "execution_count": null,
      "outputs": []
    },
    {
      "cell_type": "code",
      "metadata": {
        "id": "yBiBlOjNAwk_"
      },
      "source": [
        "def strategy_WR(df, **kwargs):\n",
        "  n = kwargs.get('n', 14)\n",
        "  data = df.copy()\n",
        "\n",
        "  wr = ta.momentum.WilliamsRIndicator(data.High, data.Low, data.Close, n)\n",
        "\n",
        "  data['WR'] = wr.wr().round(4)\n",
        "  data['WR_PREV'] = data.WR.shift(1)\n",
        "\n",
        "  data['LONG'] = (data.WR > -80) & (data.WR_PREV <= -80)\n",
        "  data['EXIT_LONG'] = (data.WR < -20) & (data.WR_PREV >= -20)\n",
        "\n",
        "  data['SHORT'] = (data.WR < -20) & (data.WR_PREV >= -20)\n",
        "  data['EXIT_SHORT'] = (data.WR > -80) & (data.WR_PREV <= -80)\n",
        "\n",
        "  data.LONG = data.LONG.shift(1)\n",
        "  data.EXIT_LONG = data.EXIT_LONG.shift(1)\n",
        "  data.SHORT = data.SHORT.shift(1)\n",
        "  data.EXIT_SHORT = data.EXIT_SHORT.shift(1)\n",
        "\n",
        "  return data\n",
        "\n",
        "\n",
        "def strategy_WR_long(df, **kwargs):\n",
        "  n = kwargs.get('n', 14)\n",
        "  data = df.copy()\n",
        "\n",
        "  wr = ta.momentum.WilliamsRIndicator(data.High, data.Low, data.Close, n)\n",
        "\n",
        "  data['WR'] = wr.wr().round(4)\n",
        "  data['WR_PREV'] = data.WR.shift(1)\n",
        "\n",
        "  data['LONG'] = (data.WR > -80) & (data.WR_PREV <= -80)\n",
        "  data['EXIT_LONG'] = (data.WR < -20) & (data.WR_PREV >= -20)\n",
        "\n",
        "  data['SHORT'] = False\n",
        "  data['EXIT_SHORT'] = False\n",
        "\n",
        "  data.LONG = data.LONG.shift(1)\n",
        "  data.EXIT_LONG = data.EXIT_LONG.shift(1)\n",
        "\n",
        "  data.SHORT = data.SHORT.shift(1)\n",
        "  data.EXIT_SHORT = data.EXIT_SHORT.shift(1)\n",
        "\n",
        "  return data\n",
        "\n",
        "# df = get_stock_backtest_data('ISF.L', '2019-01-01', '2019-12-31')\n",
        "# strategy_WR(df, n_slow=26, n_fast=12, n_sign=9)"
      ],
      "execution_count": null,
      "outputs": []
    },
    {
      "cell_type": "code",
      "metadata": {
        "id": "_zJrb3veDge-"
      },
      "source": [
        "def strategy_Stochastic_fast(df, **kwargs):\n",
        "  k = kwargs.get('k', 20)\n",
        "  d = kwargs.get('d', 5)\n",
        "  data = df.copy()\n",
        "\n",
        "  sto = ta.momentum.StochasticOscillator(data.High, data.Low, data.Close, k, d)\n",
        "\n",
        "  data['K'] = sto.stoch().round(4)\n",
        "  data['D'] = sto.stoch_signal().round(4)\n",
        "  data['DIFF'] = data['K'] - data['D']\n",
        "  data['DIFF_PREV'] = data.DIFF.shift(1)\n",
        "  \n",
        "  data['LONG'] = (data.DIFF > 0) & (data.DIFF_PREV <= 0)\n",
        "  data['EXIT_LONG'] = (data.DIFF < 0) & (data.DIFF_PREV >= 0)\n",
        "\n",
        "  data['SHORT'] = (data.DIFF < 0) & (data.DIFF_PREV >= 0)\n",
        "  data['EXIT_SHORT'] = (data.DIFF > 0) & (data.DIFF_PREV <= 0)\n",
        "\n",
        "  data.LONG = data.LONG.shift(1)\n",
        "  data.EXIT_LONG = data.EXIT_LONG.shift(1)\n",
        "\n",
        "  data.SHORT = data.SHORT.shift(1)\n",
        "  data.EXIT_SHORT = data.EXIT_SHORT.shift(1)\n",
        "\n",
        "  return data\n",
        "\n",
        "\n",
        "def strategy_Stochastic_fast_long(df, **kwargs):\n",
        "  k = kwargs.get('k', 20)\n",
        "  d = kwargs.get('d', 5)\n",
        "  data = df.copy()\n",
        "\n",
        "  sto = ta.momentum.StochasticOscillator(data.High, data.Low, data.Close, k, d)\n",
        "\n",
        "  data['K'] = sto.stoch().round(4)\n",
        "  data['D'] = sto.stoch_signal().round(4)\n",
        "  data['DIFF'] = data['K'] - data['D']\n",
        "  data['DIFF_PREV'] = data.DIFF.shift(1)\n",
        "  \n",
        "  data['LONG'] = (data.DIFF > 0) & (data.DIFF_PREV <= 0)\n",
        "  data['EXIT_LONG'] = (data.DIFF < 0) & (data.DIFF_PREV >= 0)\n",
        "\n",
        "  data['SHORT'] = False\n",
        "  data['EXIT_SHORT'] = False\n",
        "\n",
        "  data.LONG = data.LONG.shift(1)\n",
        "  data.EXIT_LONG = data.EXIT_LONG.shift(1)\n",
        "\n",
        "  data.SHORT = data.SHORT.shift(1)\n",
        "  data.EXIT_SHORT = data.EXIT_SHORT.shift(1)\n",
        "\n",
        "  return data\n",
        "\n",
        "# df = get_stock_backtest_data('ISF.L', '2019-01-01', '2019-12-31')\n",
        "# strategy_Stochastic_fast(df, k=20, d=5)"
      ],
      "execution_count": null,
      "outputs": []
    },
    {
      "cell_type": "code",
      "metadata": {
        "id": "En-ZB2H5GjmP"
      },
      "source": [
        "def strategy_Stochastic_slow(df, **kwargs):\n",
        "  k = kwargs.get('k', 20)\n",
        "  d = kwargs.get('d', 5)\n",
        "  dd = kwargs.get('dd', 3)\n",
        "  data = df.copy()\n",
        "\n",
        "  sto = ta.momentum.StochasticOscillator(data.High, data.Low, data.Close, k, d)\n",
        "\n",
        "  data['K'] = sto.stoch().round(4)\n",
        "  data['D'] = sto.stoch_signal().round(4)\n",
        "  \n",
        "  ma = ta.trend.SMAIndicator(data.D, dd)\n",
        "  data['DD'] = ma.sma_indicator().round(4)\n",
        "\n",
        "  data['DIFF'] = data['D'] - data['DD']\n",
        "  data['DIFF_PREV'] = data.DIFF.shift(1)\n",
        "  \n",
        "  data['LONG'] = (data.DIFF > 0) & (data.DIFF_PREV <= 0)\n",
        "  data['EXIT_LONG'] = (data.DIFF < 0) & (data.DIFF_PREV >= 0)\n",
        "\n",
        "  data['SHORT'] = (data.DIFF < 0) & (data.DIFF_PREV >= 0)\n",
        "  data['EXIT_SHORT'] = (data.DIFF > 0) & (data.DIFF_PREV <= 0)\n",
        "\n",
        "  data.LONG = data.LONG.shift(1)\n",
        "  data.EXIT_LONG = data.EXIT_LONG.shift(1)\n",
        "\n",
        "  data.SHORT = data.SHORT.shift(1)\n",
        "  data.EXIT_SHORT = data.EXIT_SHORT.shift(1)\n",
        "\n",
        "  return data\n",
        "\n",
        "\n",
        "def strategy_Stochastic_slow_long(df, **kwargs):\n",
        "  k = kwargs.get('k', 20)\n",
        "  d = kwargs.get('d', 5)\n",
        "  dd = kwargs.get('dd', 3)\n",
        "  data = df.copy()\n",
        "\n",
        "  sto = ta.momentum.StochasticOscillator(data.High, data.Low, data.Close, k, d)\n",
        "\n",
        "  data['K'] = sto.stoch().round(4)\n",
        "  data['D'] = sto.stoch_signal().round(4)\n",
        "  \n",
        "  ma = ta.trend.SMAIndicator(data.D, dd)\n",
        "  data['DD'] = ma.sma_indicator().round(4)\n",
        "\n",
        "  data['DIFF'] = data['D'] - data['DD']\n",
        "  data['DIFF_PREV'] = data.DIFF.shift(1)\n",
        "  \n",
        "  data['LONG'] = (data.DIFF > 0) & (data.DIFF_PREV <= 0)\n",
        "  data['EXIT_LONG'] = (data.DIFF < 0) & (data.DIFF_PREV >= 0)\n",
        "\n",
        "  data['SHORT'] = False\n",
        "  data['EXIT_SHORT'] = False\n",
        "\n",
        "  data.LONG = data.LONG.shift(1)\n",
        "  data.EXIT_LONG = data.EXIT_LONG.shift(1)\n",
        "\n",
        "  data.SHORT = data.SHORT.shift(1)\n",
        "  data.EXIT_SHORT = data.EXIT_SHORT.shift(1)\n",
        "\n",
        "  return data\n",
        "\n",
        "# df = get_stock_backtest_data('ISF.L', '2019-01-01', '2019-12-31')\n",
        "# strategy_Stochastic_slow(df, k=20, d=5, dd=3)"
      ],
      "execution_count": null,
      "outputs": []
    },
    {
      "cell_type": "code",
      "metadata": {
        "id": "6Vz8tsb9HeuS"
      },
      "source": [
        "def strategy_Ichmoku(df, **kwargs):\n",
        "  n_conv = kwargs.get('n_conv', 9)\n",
        "  n_base = kwargs.get('n_base', 26)\n",
        "  n_span_b = kwargs.get('n_span_b', 26)\n",
        "  data = df.copy()\n",
        "\n",
        "  ichmoku = ta.trend.IchimokuIndicator(data.High, data.Low, n_conv, n_base, n_span_b)\n",
        "\n",
        "  data['BASE'] = ichmoku.ichimoku_base_line().round(4)\n",
        "  data['CONV'] = ichmoku.ichimoku_conversion_line().round(4)\n",
        "\n",
        "  data['DIFF'] = data['CONV'] - data['BASE']\n",
        "  data['DIFF_PREV'] = data.DIFF.shift(1)\n",
        "  \n",
        "  data['LONG'] = (data.DIFF > 0) & (data.DIFF_PREV <= 0)\n",
        "  data['EXIT_LONG'] = (data.DIFF < 0) & (data.DIFF_PREV >= 0)\n",
        "\n",
        "  data['SHORT'] = (data.DIFF < 0) & (data.DIFF_PREV >= 0)\n",
        "  data['EXIT_SHORT'] = (data.DIFF > 0) & (data.DIFF_PREV <= 0)\n",
        "\n",
        "  data.LONG = data.LONG.shift(1)\n",
        "  data.EXIT_LONG = data.EXIT_LONG.shift(1)\n",
        "\n",
        "  data.SHORT = data.SHORT.shift(1)\n",
        "  data.EXIT_SHORT = data.EXIT_SHORT.shift(1)\n",
        "\n",
        "  return data\n",
        "\n",
        "\n",
        "def strategy_Ichmoku_long(df, **kwargs):\n",
        "  n_conv = kwargs.get('n_conv', 9)\n",
        "  n_base = kwargs.get('n_base', 26)\n",
        "  n_span_b = kwargs.get('n_span_b', 26)\n",
        "  data = df.copy()\n",
        "\n",
        "  ichmoku = ta.trend.IchimokuIndicator(data.High, data.Low, n_conv, n_base, n_span_b)\n",
        "\n",
        "  data['BASE'] = ichmoku.ichimoku_base_line().round(4)\n",
        "  data['CONV'] = ichmoku.ichimoku_conversion_line().round(4)\n",
        "\n",
        "  data['DIFF'] = data['CONV'] - data['BASE']\n",
        "  data['DIFF_PREV'] = data.DIFF.shift(1)\n",
        "  \n",
        "  data['LONG'] = (data.DIFF > 0) & (data.DIFF_PREV <= 0)\n",
        "  data['EXIT_LONG'] = (data.DIFF < 0) & (data.DIFF_PREV >= 0)\n",
        "\n",
        "  data['SHORT'] = False\n",
        "  data['EXIT_SHORT'] = False\n",
        "\n",
        "  data.LONG = data.LONG.shift(1)\n",
        "  data.EXIT_LONG = data.EXIT_LONG.shift(1)\n",
        "\n",
        "  data.SHORT = data.SHORT.shift(1)\n",
        "  data.EXIT_SHORT = data.EXIT_SHORT.shift(1)\n",
        "\n",
        "  return data\n",
        "\n",
        "# df = get_stock_backtest_data('ISF.L', '2019-01-01', '2019-12-31')\n",
        "# strategy_Ichmoku(df, n_conv=9, n_base=26, n_span_b=26)"
      ],
      "execution_count": null,
      "outputs": []
    },
    {
      "cell_type": "markdown",
      "metadata": {
        "id": "T-BMh5Qn5kYy"
      },
      "source": [
        "### Set Up Backtesting Interval ###"
      ]
    },
    {
      "cell_type": "code",
      "metadata": {
        "id": "4Fx0ZozR5iJt",
        "outputId": "f0b1183b-4cc6-48f0-d32d-61703badb7b8",
        "colab": {
          "base_uri": "https://localhost:8080/",
          "height": 235
        }
      },
      "source": [
        "bt_df = df[(df.index >= start_date) & (df.index <= end_date)]\n",
        "bt_df.head()"
      ],
      "execution_count": null,
      "outputs": [
        {
          "output_type": "execute_result",
          "data": {
            "text/html": [
              "<div>\n",
              "<style scoped>\n",
              "    .dataframe tbody tr th:only-of-type {\n",
              "        vertical-align: middle;\n",
              "    }\n",
              "\n",
              "    .dataframe tbody tr th {\n",
              "        vertical-align: top;\n",
              "    }\n",
              "\n",
              "    .dataframe thead th {\n",
              "        text-align: right;\n",
              "    }\n",
              "</style>\n",
              "<table border=\"1\" class=\"dataframe\">\n",
              "  <thead>\n",
              "    <tr style=\"text-align: right;\">\n",
              "      <th></th>\n",
              "      <th>Open</th>\n",
              "      <th>High</th>\n",
              "      <th>Low</th>\n",
              "      <th>Close</th>\n",
              "      <th>Adj Close</th>\n",
              "      <th>Volume</th>\n",
              "      <th>K_BAND_UB</th>\n",
              "      <th>K_BAND_LB</th>\n",
              "      <th>CLOSE_PREV</th>\n",
              "      <th>LONG</th>\n",
              "      <th>EXIT_LONG</th>\n",
              "      <th>SHORT</th>\n",
              "      <th>EXIT_SHORT</th>\n",
              "    </tr>\n",
              "    <tr>\n",
              "      <th>Date</th>\n",
              "      <th></th>\n",
              "      <th></th>\n",
              "      <th></th>\n",
              "      <th></th>\n",
              "      <th></th>\n",
              "      <th></th>\n",
              "      <th></th>\n",
              "      <th></th>\n",
              "      <th></th>\n",
              "      <th></th>\n",
              "      <th></th>\n",
              "      <th></th>\n",
              "      <th></th>\n",
              "    </tr>\n",
              "  </thead>\n",
              "  <tbody>\n",
              "    <tr>\n",
              "      <th>2019-01-02</th>\n",
              "      <td>6.547</td>\n",
              "      <td>6.670</td>\n",
              "      <td>6.522</td>\n",
              "      <td>6.654</td>\n",
              "      <td>6.354484</td>\n",
              "      <td>5107996</td>\n",
              "      <td>6.7182</td>\n",
              "      <td>6.5342</td>\n",
              "      <td>6.654</td>\n",
              "      <td>False</td>\n",
              "      <td>False</td>\n",
              "      <td>False</td>\n",
              "      <td>False</td>\n",
              "    </tr>\n",
              "    <tr>\n",
              "      <th>2019-01-03</th>\n",
              "      <td>6.610</td>\n",
              "      <td>6.669</td>\n",
              "      <td>6.603</td>\n",
              "      <td>6.610</td>\n",
              "      <td>6.312465</td>\n",
              "      <td>8575653</td>\n",
              "      <td>6.7095</td>\n",
              "      <td>6.5281</td>\n",
              "      <td>6.654</td>\n",
              "      <td>False</td>\n",
              "      <td>False</td>\n",
              "      <td>False</td>\n",
              "      <td>False</td>\n",
              "    </tr>\n",
              "    <tr>\n",
              "      <th>2019-01-04</th>\n",
              "      <td>6.669</td>\n",
              "      <td>6.762</td>\n",
              "      <td>6.640</td>\n",
              "      <td>6.746</td>\n",
              "      <td>6.442343</td>\n",
              "      <td>4431171</td>\n",
              "      <td>6.7245</td>\n",
              "      <td>6.5299</td>\n",
              "      <td>6.610</td>\n",
              "      <td>False</td>\n",
              "      <td>False</td>\n",
              "      <td>False</td>\n",
              "      <td>False</td>\n",
              "    </tr>\n",
              "    <tr>\n",
              "      <th>2019-01-07</th>\n",
              "      <td>6.776</td>\n",
              "      <td>6.781</td>\n",
              "      <td>6.693</td>\n",
              "      <td>6.727</td>\n",
              "      <td>6.424198</td>\n",
              "      <td>4629466</td>\n",
              "      <td>6.7324</td>\n",
              "      <td>6.5358</td>\n",
              "      <td>6.746</td>\n",
              "      <td>False</td>\n",
              "      <td>True</td>\n",
              "      <td>True</td>\n",
              "      <td>False</td>\n",
              "    </tr>\n",
              "    <tr>\n",
              "      <th>2019-01-08</th>\n",
              "      <td>6.720</td>\n",
              "      <td>6.817</td>\n",
              "      <td>6.720</td>\n",
              "      <td>6.775</td>\n",
              "      <td>6.470037</td>\n",
              "      <td>7461453</td>\n",
              "      <td>6.7455</td>\n",
              "      <td>6.5525</td>\n",
              "      <td>6.727</td>\n",
              "      <td>False</td>\n",
              "      <td>False</td>\n",
              "      <td>False</td>\n",
              "      <td>False</td>\n",
              "    </tr>\n",
              "  </tbody>\n",
              "</table>\n",
              "</div>"
            ],
            "text/plain": [
              "             Open   High    Low  Close  ...   LONG  EXIT_LONG  SHORT  EXIT_SHORT\n",
              "Date                                    ...                                     \n",
              "2019-01-02  6.547  6.670  6.522  6.654  ...  False      False  False       False\n",
              "2019-01-03  6.610  6.669  6.603  6.610  ...  False      False  False       False\n",
              "2019-01-04  6.669  6.762  6.640  6.746  ...  False      False  False       False\n",
              "2019-01-07  6.776  6.781  6.693  6.727  ...  False       True   True       False\n",
              "2019-01-08  6.720  6.817  6.720  6.775  ...  False      False  False       False\n",
              "\n",
              "[5 rows x 13 columns]"
            ]
          },
          "metadata": {
            "tags": []
          },
          "execution_count": 20
        }
      ]
    },
    {
      "cell_type": "code",
      "metadata": {
        "id": "IITWvGmRkrkE"
      },
      "source": [
        "def prepare_stock_ta_backtest_data(df, start_date, end_date, strategy, **strategy_params):\n",
        "  df_strategy = strategy(df, **strategy_params)\n",
        "  bt_df = df_strategy[(df_strategy.index >= start_date) & (df_strategy.index <= end_date)]\n",
        "  return bt_df"
      ],
      "execution_count": null,
      "outputs": []
    },
    {
      "cell_type": "code",
      "metadata": {
        "id": "bYO4SjX2lRUb",
        "outputId": "681531be-a49c-441a-fa56-ef1a5f4821a2",
        "colab": {
          "base_uri": "https://localhost:8080/",
          "height": 235
        }
      },
      "source": [
        "bt_df = prepare_stock_ta_backtest_data(\n",
        "    df, start_date, end_date, strategy_KeltnerChannel_origin, n=10\n",
        "    )\n",
        "\n",
        "bt_df.head()"
      ],
      "execution_count": null,
      "outputs": [
        {
          "output_type": "execute_result",
          "data": {
            "text/html": [
              "<div>\n",
              "<style scoped>\n",
              "    .dataframe tbody tr th:only-of-type {\n",
              "        vertical-align: middle;\n",
              "    }\n",
              "\n",
              "    .dataframe tbody tr th {\n",
              "        vertical-align: top;\n",
              "    }\n",
              "\n",
              "    .dataframe thead th {\n",
              "        text-align: right;\n",
              "    }\n",
              "</style>\n",
              "<table border=\"1\" class=\"dataframe\">\n",
              "  <thead>\n",
              "    <tr style=\"text-align: right;\">\n",
              "      <th></th>\n",
              "      <th>Open</th>\n",
              "      <th>High</th>\n",
              "      <th>Low</th>\n",
              "      <th>Close</th>\n",
              "      <th>Adj Close</th>\n",
              "      <th>Volume</th>\n",
              "      <th>K_BAND_UB</th>\n",
              "      <th>K_BAND_LB</th>\n",
              "      <th>CLOSE_PREV</th>\n",
              "      <th>LONG</th>\n",
              "      <th>EXIT_LONG</th>\n",
              "      <th>SHORT</th>\n",
              "      <th>EXIT_SHORT</th>\n",
              "    </tr>\n",
              "    <tr>\n",
              "      <th>Date</th>\n",
              "      <th></th>\n",
              "      <th></th>\n",
              "      <th></th>\n",
              "      <th></th>\n",
              "      <th></th>\n",
              "      <th></th>\n",
              "      <th></th>\n",
              "      <th></th>\n",
              "      <th></th>\n",
              "      <th></th>\n",
              "      <th></th>\n",
              "      <th></th>\n",
              "      <th></th>\n",
              "    </tr>\n",
              "  </thead>\n",
              "  <tbody>\n",
              "    <tr>\n",
              "      <th>2019-01-02</th>\n",
              "      <td>6.547</td>\n",
              "      <td>6.670</td>\n",
              "      <td>6.522</td>\n",
              "      <td>6.654</td>\n",
              "      <td>6.354484</td>\n",
              "      <td>5107996</td>\n",
              "      <td>6.7182</td>\n",
              "      <td>6.5342</td>\n",
              "      <td>6.654</td>\n",
              "      <td>False</td>\n",
              "      <td>False</td>\n",
              "      <td>False</td>\n",
              "      <td>False</td>\n",
              "    </tr>\n",
              "    <tr>\n",
              "      <th>2019-01-03</th>\n",
              "      <td>6.610</td>\n",
              "      <td>6.669</td>\n",
              "      <td>6.603</td>\n",
              "      <td>6.610</td>\n",
              "      <td>6.312465</td>\n",
              "      <td>8575653</td>\n",
              "      <td>6.7095</td>\n",
              "      <td>6.5281</td>\n",
              "      <td>6.654</td>\n",
              "      <td>False</td>\n",
              "      <td>False</td>\n",
              "      <td>False</td>\n",
              "      <td>False</td>\n",
              "    </tr>\n",
              "    <tr>\n",
              "      <th>2019-01-04</th>\n",
              "      <td>6.669</td>\n",
              "      <td>6.762</td>\n",
              "      <td>6.640</td>\n",
              "      <td>6.746</td>\n",
              "      <td>6.442343</td>\n",
              "      <td>4431171</td>\n",
              "      <td>6.7245</td>\n",
              "      <td>6.5299</td>\n",
              "      <td>6.610</td>\n",
              "      <td>False</td>\n",
              "      <td>False</td>\n",
              "      <td>False</td>\n",
              "      <td>False</td>\n",
              "    </tr>\n",
              "    <tr>\n",
              "      <th>2019-01-07</th>\n",
              "      <td>6.776</td>\n",
              "      <td>6.781</td>\n",
              "      <td>6.693</td>\n",
              "      <td>6.727</td>\n",
              "      <td>6.424198</td>\n",
              "      <td>4629466</td>\n",
              "      <td>6.7324</td>\n",
              "      <td>6.5358</td>\n",
              "      <td>6.746</td>\n",
              "      <td>False</td>\n",
              "      <td>True</td>\n",
              "      <td>True</td>\n",
              "      <td>False</td>\n",
              "    </tr>\n",
              "    <tr>\n",
              "      <th>2019-01-08</th>\n",
              "      <td>6.720</td>\n",
              "      <td>6.817</td>\n",
              "      <td>6.720</td>\n",
              "      <td>6.775</td>\n",
              "      <td>6.470037</td>\n",
              "      <td>7461453</td>\n",
              "      <td>6.7455</td>\n",
              "      <td>6.5525</td>\n",
              "      <td>6.727</td>\n",
              "      <td>False</td>\n",
              "      <td>False</td>\n",
              "      <td>False</td>\n",
              "      <td>False</td>\n",
              "    </tr>\n",
              "  </tbody>\n",
              "</table>\n",
              "</div>"
            ],
            "text/plain": [
              "             Open   High    Low  Close  ...   LONG  EXIT_LONG  SHORT  EXIT_SHORT\n",
              "Date                                    ...                                     \n",
              "2019-01-02  6.547  6.670  6.522  6.654  ...  False      False  False       False\n",
              "2019-01-03  6.610  6.669  6.603  6.610  ...  False      False  False       False\n",
              "2019-01-04  6.669  6.762  6.640  6.746  ...  False      False  False       False\n",
              "2019-01-07  6.776  6.781  6.693  6.727  ...  False       True   True       False\n",
              "2019-01-08  6.720  6.817  6.720  6.775  ...  False      False  False       False\n",
              "\n",
              "[5 rows x 13 columns]"
            ]
          },
          "metadata": {
            "tags": []
          },
          "execution_count": 22
        }
      ]
    },
    {
      "cell_type": "markdown",
      "metadata": {
        "id": "mi2QKi4E73r5"
      },
      "source": [
        "### Simulate Trading ###"
      ]
    },
    {
      "cell_type": "code",
      "metadata": {
        "id": "LwG-O5VlZFCG"
      },
      "source": [
        "balance = 1000000\n",
        "pnl = 0\n",
        "position = 0\n",
        "\n",
        "last_signal = 'hold'\n",
        "last_price = 0\n",
        "c = 0\n",
        "\n",
        "trade_date_start = []\n",
        "trade_date_end = []\n",
        "trade_days = []\n",
        "trade_side = []\n",
        "trade_pnl = []\n",
        "trade_ret = []\n",
        "\n",
        "cum_value = []\n",
        "\n",
        "for index, row in bt_df.iterrows():\n",
        "    # check and close any positions\n",
        "    if row.EXIT_LONG and last_signal == 'long':\n",
        "      trade_date_end.append(row.name)\n",
        "      trade_days.append(c)\n",
        "\n",
        "      pnl = (row.Open - last_price) * position\n",
        "      trade_pnl.append(pnl)\n",
        "      trade_ret.append((row.Open / last_price - 1) * 100)\n",
        "      \n",
        "      balance = balance + row.Open * position\n",
        "      \n",
        "      position = 0\n",
        "      last_signal = 'hold'\n",
        "\n",
        "      c = 0\n",
        "    \n",
        "    elif row.EXIT_SHORT and last_signal == 'short':\n",
        "      trade_date_end.append(row.name)\n",
        "      trade_days.append(c)\n",
        "      \n",
        "      pnl = (row.Open - last_price) * position\n",
        "      trade_pnl.append(pnl)\n",
        "      trade_ret.append((last_price / row.Open - 1) * 100)\n",
        "\n",
        "      balance = balance + pnl\n",
        "\n",
        "      position = 0\n",
        "      last_signal = 'hold'\n",
        "\n",
        "      c = 0\n",
        "\n",
        "    # check signal and enter any possible position\n",
        "    if row.LONG and last_signal != 'long':\n",
        "      last_signal = 'long'\n",
        "      last_price = row.Open\n",
        "      trade_date_start.append(row.name)\n",
        "      trade_side.append('long')\n",
        "\n",
        "      position = int(balance / row.Open)\n",
        "      cost = position * row.Open\n",
        "      balance = balance - cost\n",
        "\n",
        "      c = 0\n",
        "\n",
        "    elif row.SHORT and last_signal != 'short':\n",
        "      last_signal = 'short'\n",
        "      last_price = row.Open\n",
        "      trade_date_start.append(row.name)\n",
        "      trade_side.append('short')\n",
        "\n",
        "      position = int(balance / row.Open) * -1\n",
        "      \n",
        "      c = 0\n",
        "      \n",
        "    # compute market value and count days for any possible poisition\n",
        "    if last_signal == 'hold':\n",
        "      market_value = balance\n",
        "    elif last_signal == 'long':\n",
        "      c = c + 1\n",
        "      market_value = position * row.Close + balance\n",
        "    else: \n",
        "      c = c + 1\n",
        "      market_value = (row.Close - last_price) * position + balance\n",
        "    \n",
        "    cum_value.append(market_value)"
      ],
      "execution_count": null,
      "outputs": []
    },
    {
      "cell_type": "markdown",
      "metadata": {
        "id": "Q-RF9LTZGDk-"
      },
      "source": [
        "### Analyze the Result ###"
      ]
    },
    {
      "cell_type": "code",
      "metadata": {
        "id": "cUyCLz6WGCpV",
        "outputId": "3e26421a-6261-4318-da27-5ba98f3608bb",
        "colab": {
          "base_uri": "https://localhost:8080/",
          "height": 420
        }
      },
      "source": [
        "cum_ret_df = pd.DataFrame(cum_value, index=bt_df.index, columns=['CUM_RET'])\n",
        "cum_ret_df['CUM_RET'] = (cum_ret_df.CUM_RET / 1000000 - 1) * 100\n",
        "cum_ret_df['BUY_HOLD'] = (bt_df.Close / bt_df.Open.iloc[0] - 1) * 100\n",
        "cum_ret_df['ZERO'] = 0\n",
        "cum_ret_df.plot(figsize=(15, 5))\n",
        "\n",
        "cum_ret_df.iloc[[-1]].round(2)"
      ],
      "execution_count": null,
      "outputs": [
        {
          "output_type": "execute_result",
          "data": {
            "text/html": [
              "<div>\n",
              "<style scoped>\n",
              "    .dataframe tbody tr th:only-of-type {\n",
              "        vertical-align: middle;\n",
              "    }\n",
              "\n",
              "    .dataframe tbody tr th {\n",
              "        vertical-align: top;\n",
              "    }\n",
              "\n",
              "    .dataframe thead th {\n",
              "        text-align: right;\n",
              "    }\n",
              "</style>\n",
              "<table border=\"1\" class=\"dataframe\">\n",
              "  <thead>\n",
              "    <tr style=\"text-align: right;\">\n",
              "      <th></th>\n",
              "      <th>CUM_RET</th>\n",
              "      <th>BUY_HOLD</th>\n",
              "      <th>ZERO</th>\n",
              "    </tr>\n",
              "    <tr>\n",
              "      <th>Date</th>\n",
              "      <th></th>\n",
              "      <th></th>\n",
              "      <th></th>\n",
              "    </tr>\n",
              "  </thead>\n",
              "  <tbody>\n",
              "    <tr>\n",
              "      <th>2019-12-30</th>\n",
              "      <td>41.3</td>\n",
              "      <td>14.25</td>\n",
              "      <td>0</td>\n",
              "    </tr>\n",
              "  </tbody>\n",
              "</table>\n",
              "</div>"
            ],
            "text/plain": [
              "            CUM_RET  BUY_HOLD  ZERO\n",
              "Date                               \n",
              "2019-12-30     41.3     14.25     0"
            ]
          },
          "metadata": {
            "tags": []
          },
          "execution_count": 24
        },
        {
          "output_type": "display_data",
          "data": {
            "image/png": "[encoded data removed]",
            "text/plain": [
              "<Figure size 1080x360 with 1 Axes>"
            ]
          },
          "metadata": {
            "tags": [],
            "needs_background": "light"
          }
        }
      ]
    },
    {
      "cell_type": "code",
      "metadata": {
        "id": "te1QSNaCGJBL",
        "outputId": "fc47a382-d878-495f-860c-8ebe3f69940f",
        "colab": {
          "base_uri": "https://localhost:8080/",
          "height": 204
        }
      },
      "source": [
        "size = min(len(trade_date_start), len(trade_date_end))\n",
        "\n",
        "tarde_dict = {\n",
        "    'START': trade_date_start[:size],\n",
        "    'END': trade_date_end[:size],\n",
        "    'SIDE': trade_side[:size],\n",
        "    'DAYS': trade_days[:size],\n",
        "    'PNL': trade_pnl[:size],\n",
        "    'RET': trade_ret[:size]\n",
        "}\n",
        "\n",
        "trade_df = pd.DataFrame(tarde_dict)\n",
        "trade_df.head()"
      ],
      "execution_count": null,
      "outputs": [
        {
          "output_type": "execute_result",
          "data": {
            "text/html": [
              "<div>\n",
              "<style scoped>\n",
              "    .dataframe tbody tr th:only-of-type {\n",
              "        vertical-align: middle;\n",
              "    }\n",
              "\n",
              "    .dataframe tbody tr th {\n",
              "        vertical-align: top;\n",
              "    }\n",
              "\n",
              "    .dataframe thead th {\n",
              "        text-align: right;\n",
              "    }\n",
              "</style>\n",
              "<table border=\"1\" class=\"dataframe\">\n",
              "  <thead>\n",
              "    <tr style=\"text-align: right;\">\n",
              "      <th></th>\n",
              "      <th>START</th>\n",
              "      <th>END</th>\n",
              "      <th>SIDE</th>\n",
              "      <th>DAYS</th>\n",
              "      <th>PNL</th>\n",
              "      <th>RET</th>\n",
              "    </tr>\n",
              "  </thead>\n",
              "  <tbody>\n",
              "    <tr>\n",
              "      <th>0</th>\n",
              "      <td>2019-01-07</td>\n",
              "      <td>2019-01-25</td>\n",
              "      <td>short</td>\n",
              "      <td>14</td>\n",
              "      <td>5460.449460</td>\n",
              "      <td>0.549046</td>\n",
              "    </tr>\n",
              "    <tr>\n",
              "      <th>1</th>\n",
              "      <td>2019-01-25</td>\n",
              "      <td>2019-01-31</td>\n",
              "      <td>long</td>\n",
              "      <td>4</td>\n",
              "      <td>20888.051224</td>\n",
              "      <td>2.077465</td>\n",
              "    </tr>\n",
              "    <tr>\n",
              "      <th>2</th>\n",
              "      <td>2019-01-31</td>\n",
              "      <td>2019-02-28</td>\n",
              "      <td>short</td>\n",
              "      <td>20</td>\n",
              "      <td>-23871.977234</td>\n",
              "      <td>-2.273048</td>\n",
              "    </tr>\n",
              "    <tr>\n",
              "      <th>3</th>\n",
              "      <td>2019-02-28</td>\n",
              "      <td>2019-03-19</td>\n",
              "      <td>long</td>\n",
              "      <td>13</td>\n",
              "      <td>22929.104947</td>\n",
              "      <td>2.287254</td>\n",
              "    </tr>\n",
              "    <tr>\n",
              "      <th>4</th>\n",
              "      <td>2019-03-19</td>\n",
              "      <td>2019-03-26</td>\n",
              "      <td>short</td>\n",
              "      <td>5</td>\n",
              "      <td>14241.686418</td>\n",
              "      <td>1.408449</td>\n",
              "    </tr>\n",
              "  </tbody>\n",
              "</table>\n",
              "</div>"
            ],
            "text/plain": [
              "       START        END   SIDE  DAYS           PNL       RET\n",
              "0 2019-01-07 2019-01-25  short    14   5460.449460  0.549046\n",
              "1 2019-01-25 2019-01-31   long     4  20888.051224  2.077465\n",
              "2 2019-01-31 2019-02-28  short    20 -23871.977234 -2.273048\n",
              "3 2019-02-28 2019-03-19   long    13  22929.104947  2.287254\n",
              "4 2019-03-19 2019-03-26  short     5  14241.686418  1.408449"
            ]
          },
          "metadata": {
            "tags": []
          },
          "execution_count": 25
        }
      ]
    },
    {
      "cell_type": "code",
      "metadata": {
        "id": "2tH1KxhgGL6S",
        "outputId": "6e632383-b8a5-489e-d52e-7ce6ac30e43e",
        "colab": {
          "base_uri": "https://localhost:8080/",
          "height": 111
        }
      },
      "source": [
        "num_trades = trade_df.groupby('SIDE').count()[['START']]\n",
        "num_trades_win = trade_df[trade_df.PNL > 0].groupby('SIDE').count()[['START']]\n",
        "\n",
        "avg_days = trade_df.groupby('SIDE').mean()[['DAYS']]\n",
        "\n",
        "avg_ret = trade_df.groupby('SIDE').mean()[['RET']]\n",
        "avg_ret_win = trade_df[trade_df.PNL > 0].groupby('SIDE').mean()[['RET']]\n",
        "avg_ret_loss = trade_df[trade_df.PNL < 0].groupby('SIDE').mean()[['RET']]\n",
        "\n",
        "std_ret = trade_df.groupby('SIDE').std()[['RET']]\n",
        "\n",
        "detail_df = pd.concat([\n",
        "                       num_trades, num_trades_win, avg_days,\n",
        "                       avg_ret, avg_ret_win, avg_ret_loss, std_ret\n",
        "                       ], axis=1, sort=False)\n",
        "\n",
        "detail_df.columns = [\n",
        "                     'NUM_TRADES', 'NUM_TRADES_WIN', 'AVG_DAYS', \n",
        "                     'AVG_RET', 'AVG_RET_WIN', 'AVG_RET_LOSS', 'STD_RET'\n",
        "                     ]\n",
        "\n",
        "detail_df.round(2)"
      ],
      "execution_count": null,
      "outputs": [
        {
          "output_type": "execute_result",
          "data": {
            "text/html": [
              "<div>\n",
              "<style scoped>\n",
              "    .dataframe tbody tr th:only-of-type {\n",
              "        vertical-align: middle;\n",
              "    }\n",
              "\n",
              "    .dataframe tbody tr th {\n",
              "        vertical-align: top;\n",
              "    }\n",
              "\n",
              "    .dataframe thead th {\n",
              "        text-align: right;\n",
              "    }\n",
              "</style>\n",
              "<table border=\"1\" class=\"dataframe\">\n",
              "  <thead>\n",
              "    <tr style=\"text-align: right;\">\n",
              "      <th></th>\n",
              "      <th>NUM_TRADES</th>\n",
              "      <th>NUM_TRADES_WIN</th>\n",
              "      <th>AVG_DAYS</th>\n",
              "      <th>AVG_RET</th>\n",
              "      <th>AVG_RET_WIN</th>\n",
              "      <th>AVG_RET_LOSS</th>\n",
              "      <th>STD_RET</th>\n",
              "    </tr>\n",
              "  </thead>\n",
              "  <tbody>\n",
              "    <tr>\n",
              "      <th>long</th>\n",
              "      <td>10</td>\n",
              "      <td>10</td>\n",
              "      <td>9.4</td>\n",
              "      <td>2.29</td>\n",
              "      <td>2.29</td>\n",
              "      <td>NaN</td>\n",
              "      <td>1.15</td>\n",
              "    </tr>\n",
              "    <tr>\n",
              "      <th>short</th>\n",
              "      <td>10</td>\n",
              "      <td>8</td>\n",
              "      <td>14.7</td>\n",
              "      <td>1.42</td>\n",
              "      <td>2.17</td>\n",
              "      <td>-1.57</td>\n",
              "      <td>2.33</td>\n",
              "    </tr>\n",
              "  </tbody>\n",
              "</table>\n",
              "</div>"
            ],
            "text/plain": [
              "       NUM_TRADES  NUM_TRADES_WIN  AVG_DAYS  ...  AVG_RET_WIN  AVG_RET_LOSS  STD_RET\n",
              "long           10              10       9.4  ...         2.29           NaN     1.15\n",
              "short          10               8      14.7  ...         2.17         -1.57     2.33\n",
              "\n",
              "[2 rows x 7 columns]"
            ]
          },
          "metadata": {
            "tags": []
          },
          "execution_count": 26
        }
      ]
    },
    {
      "cell_type": "markdown",
      "metadata": {
        "id": "25ZPv-NY8nQP"
      },
      "source": [
        "### Try Adding Stop Loss ###"
      ]
    },
    {
      "cell_type": "code",
      "metadata": {
        "id": "zHX9MN0E8mYH"
      },
      "source": [
        "balance = 1000000\n",
        "pnl = 0\n",
        "position = 0\n",
        "\n",
        "stop_loss_lvl = -2\n",
        "\n",
        "last_signal = 'hold'\n",
        "last_price = 0\n",
        "c = 0\n",
        "\n",
        "trade_date_start = []\n",
        "trade_date_end = []\n",
        "trade_days = []\n",
        "trade_side = []\n",
        "trade_pnl = []\n",
        "trade_ret = []\n",
        "\n",
        "cum_value = []\n",
        "\n",
        "for index, row in bt_df.iterrows():\n",
        "    # check and close any positions\n",
        "    if row.EXIT_LONG and last_signal == 'long':\n",
        "      trade_date_end.append(row.name)\n",
        "      trade_days.append(c)\n",
        "\n",
        "      pnl = (row.Open - last_price) * position\n",
        "      trade_pnl.append(pnl)\n",
        "      trade_ret.append((row.Open / last_price - 1) * 100)\n",
        "      \n",
        "      balance = balance + row.Open * position\n",
        "      \n",
        "      position = 0\n",
        "      last_signal = 'hold'\n",
        "\n",
        "      c = 0\n",
        "    \n",
        "    elif row.EXIT_SHORT and last_signal == 'short':\n",
        "      trade_date_end.append(row.name)\n",
        "      trade_days.append(c)\n",
        "      \n",
        "      pnl = (row.Open - last_price) * position\n",
        "      trade_pnl.append(pnl)\n",
        "      trade_ret.append((last_price / row.Open - 1) * 100)\n",
        "\n",
        "      balance = balance + pnl\n",
        "\n",
        "      position = 0\n",
        "      last_signal = 'hold'\n",
        "\n",
        "      c = 0\n",
        "\n",
        "\n",
        "    # check signal and enter any possible position\n",
        "    if row.LONG and last_signal != 'long':\n",
        "      last_signal = 'long'\n",
        "      last_price = row.Open\n",
        "      trade_date_start.append(row.name)\n",
        "      trade_side.append('long')\n",
        "\n",
        "      position = int(balance / row.Open)\n",
        "      cost = position * row.Open\n",
        "      balance = balance - cost\n",
        "\n",
        "      c = 0\n",
        "\n",
        "    elif row.SHORT and last_signal != 'short':\n",
        "      last_signal = 'short'\n",
        "      last_price = row.Open\n",
        "      trade_date_start.append(row.name)\n",
        "      trade_side.append('short')\n",
        "\n",
        "      position = int(balance / row.Open) * -1\n",
        "      \n",
        "      c = 0\n",
        "    \n",
        "\n",
        "    # check stop loss\n",
        "    if last_signal == 'long' and c > 0 and (row.Low / last_price - 1) * 100 <= stop_loss_lvl:\n",
        "      c = c + 1\n",
        "\n",
        "      trade_date_end.append(row.name)\n",
        "      trade_days.append(c)\n",
        "\n",
        "      stop_loss_price = last_price + round(last_price * (stop_loss_lvl / 100), 4)\n",
        "\n",
        "      pnl = (stop_loss_price - last_price) * position\n",
        "      trade_pnl.append(pnl)\n",
        "      trade_ret.append((stop_loss_price / last_price - 1) * 100)\n",
        "      \n",
        "      balance = balance + stop_loss_price * position\n",
        "      \n",
        "      position = 0\n",
        "      last_signal = 'hold'\n",
        "\n",
        "      c = 0\n",
        "\n",
        "    elif last_signal == 'short' and c > 0 and (last_price / row.High - 1) * 100 <= stop_loss_lvl:\n",
        "      c = c + 1\n",
        "\n",
        "      trade_date_end.append(row.name)\n",
        "      trade_days.append(c)\n",
        "      \n",
        "      stop_loss_price = last_price - round(last_price * (stop_loss_lvl / 100), 4)\n",
        "\n",
        "      pnl = (stop_loss_price - last_price) * position\n",
        "      trade_pnl.append(pnl)\n",
        "      trade_ret.append((last_price / stop_loss_price - 1) * 100)\n",
        "\n",
        "      balance = balance + pnl\n",
        "\n",
        "      position = 0\n",
        "      last_signal = 'hold'\n",
        "\n",
        "      c = 0\n",
        "\n",
        "\n",
        "    # compute market value and count days for any possible poisition\n",
        "    if last_signal == 'hold':\n",
        "      market_value = balance\n",
        "    elif last_signal == 'long':\n",
        "      c = c + 1\n",
        "      market_value = position * row.Close + balance\n",
        "    else: \n",
        "      c = c + 1\n",
        "      market_value = (row.Close - last_price) * position + balance\n",
        "    \n",
        "    cum_value.append(market_value)"
      ],
      "execution_count": null,
      "outputs": []
    },
    {
      "cell_type": "markdown",
      "metadata": {
        "id": "KdO50EAOM7cU"
      },
      "source": [
        "### Analyze the Result ###"
      ]
    },
    {
      "cell_type": "code",
      "metadata": {
        "id": "oy8D-qs8ZE6W",
        "outputId": "705670c1-362f-47be-8acc-f328d8059e13",
        "colab": {
          "base_uri": "https://localhost:8080/",
          "height": 420
        }
      },
      "source": [
        "cum_ret_df = pd.DataFrame(cum_value, index=bt_df.index, columns=['CUM_RET'])\n",
        "cum_ret_df['CUM_RET'] = (cum_ret_df.CUM_RET / 1000000 - 1) * 100\n",
        "cum_ret_df['BUY_HOLD'] = (bt_df.Close / bt_df.Open.iloc[0] - 1) * 100\n",
        "cum_ret_df['ZERO'] = 0\n",
        "cum_ret_df.plot(figsize=(15, 5))\n",
        "\n",
        "cum_ret_df.iloc[[-1]].round(2)"
      ],
      "execution_count": null,
      "outputs": [
        {
          "output_type": "execute_result",
          "data": {
            "text/html": [
              "<div>\n",
              "<style scoped>\n",
              "    .dataframe tbody tr th:only-of-type {\n",
              "        vertical-align: middle;\n",
              "    }\n",
              "\n",
              "    .dataframe tbody tr th {\n",
              "        vertical-align: top;\n",
              "    }\n",
              "\n",
              "    .dataframe thead th {\n",
              "        text-align: right;\n",
              "    }\n",
              "</style>\n",
              "<table border=\"1\" class=\"dataframe\">\n",
              "  <thead>\n",
              "    <tr style=\"text-align: right;\">\n",
              "      <th></th>\n",
              "      <th>CUM_RET</th>\n",
              "      <th>BUY_HOLD</th>\n",
              "      <th>ZERO</th>\n",
              "    </tr>\n",
              "    <tr>\n",
              "      <th>Date</th>\n",
              "      <th></th>\n",
              "      <th></th>\n",
              "      <th></th>\n",
              "    </tr>\n",
              "  </thead>\n",
              "  <tbody>\n",
              "    <tr>\n",
              "      <th>2019-12-30</th>\n",
              "      <td>33.3</td>\n",
              "      <td>14.25</td>\n",
              "      <td>0</td>\n",
              "    </tr>\n",
              "  </tbody>\n",
              "</table>\n",
              "</div>"
            ],
            "text/plain": [
              "            CUM_RET  BUY_HOLD  ZERO\n",
              "Date                               \n",
              "2019-12-30     33.3     14.25     0"
            ]
          },
          "metadata": {
            "tags": []
          },
          "execution_count": 28
        },
        {
          "output_type": "display_data",
          "data": {
            "image/png": "[encoded data removed]",
            "text/plain": [
              "<Figure size 1080x360 with 1 Axes>"
            ]
          },
          "metadata": {
            "tags": [],
            "needs_background": "light"
          }
        }
      ]
    },
    {
      "cell_type": "code",
      "metadata": {
        "id": "kOVfInWxZE3Z",
        "outputId": "17bdbb32-69ef-43ab-95cb-1db20cde9ac8",
        "colab": {
          "base_uri": "https://localhost:8080/",
          "height": 204
        }
      },
      "source": [
        "size = min(len(trade_date_start), len(trade_date_end))\n",
        "\n",
        "tarde_dict = {\n",
        "    'START': trade_date_start[:size],\n",
        "    'END': trade_date_end[:size],\n",
        "    'SIDE': trade_side[:size],\n",
        "    'DAYS': trade_days[:size],\n",
        "    'PNL': trade_pnl[:size],\n",
        "    'RET': trade_ret[:size]\n",
        "}\n",
        "\n",
        "trade_df = pd.DataFrame(tarde_dict)\n",
        "trade_df.head()"
      ],
      "execution_count": null,
      "outputs": [
        {
          "output_type": "execute_result",
          "data": {
            "text/html": [
              "<div>\n",
              "<style scoped>\n",
              "    .dataframe tbody tr th:only-of-type {\n",
              "        vertical-align: middle;\n",
              "    }\n",
              "\n",
              "    .dataframe tbody tr th {\n",
              "        vertical-align: top;\n",
              "    }\n",
              "\n",
              "    .dataframe thead th {\n",
              "        text-align: right;\n",
              "    }\n",
              "</style>\n",
              "<table border=\"1\" class=\"dataframe\">\n",
              "  <thead>\n",
              "    <tr style=\"text-align: right;\">\n",
              "      <th></th>\n",
              "      <th>START</th>\n",
              "      <th>END</th>\n",
              "      <th>SIDE</th>\n",
              "      <th>DAYS</th>\n",
              "      <th>PNL</th>\n",
              "      <th>RET</th>\n",
              "    </tr>\n",
              "  </thead>\n",
              "  <tbody>\n",
              "    <tr>\n",
              "      <th>0</th>\n",
              "      <td>2019-01-07</td>\n",
              "      <td>2019-01-11</td>\n",
              "      <td>short</td>\n",
              "      <td>5</td>\n",
              "      <td>-19996.954500</td>\n",
              "      <td>-1.960501</td>\n",
              "    </tr>\n",
              "    <tr>\n",
              "      <th>1</th>\n",
              "      <td>2019-01-21</td>\n",
              "      <td>2019-01-25</td>\n",
              "      <td>short</td>\n",
              "      <td>4</td>\n",
              "      <td>21338.413567</td>\n",
              "      <td>2.225851</td>\n",
              "    </tr>\n",
              "    <tr>\n",
              "      <th>2</th>\n",
              "      <td>2019-01-25</td>\n",
              "      <td>2019-01-31</td>\n",
              "      <td>long</td>\n",
              "      <td>4</td>\n",
              "      <td>20802.511014</td>\n",
              "      <td>2.077465</td>\n",
              "    </tr>\n",
              "    <tr>\n",
              "      <th>3</th>\n",
              "      <td>2019-01-31</td>\n",
              "      <td>2019-02-05</td>\n",
              "      <td>short</td>\n",
              "      <td>4</td>\n",
              "      <td>-20445.846400</td>\n",
              "      <td>-1.961064</td>\n",
              "    </tr>\n",
              "    <tr>\n",
              "      <th>4</th>\n",
              "      <td>2019-02-12</td>\n",
              "      <td>2019-02-28</td>\n",
              "      <td>short</td>\n",
              "      <td>12</td>\n",
              "      <td>5378.611118</td>\n",
              "      <td>0.539851</td>\n",
              "    </tr>\n",
              "  </tbody>\n",
              "</table>\n",
              "</div>"
            ],
            "text/plain": [
              "       START        END   SIDE  DAYS           PNL       RET\n",
              "0 2019-01-07 2019-01-11  short     5 -19996.954500 -1.960501\n",
              "1 2019-01-21 2019-01-25  short     4  21338.413567  2.225851\n",
              "2 2019-01-25 2019-01-31   long     4  20802.511014  2.077465\n",
              "3 2019-01-31 2019-02-05  short     4 -20445.846400 -1.961064\n",
              "4 2019-02-12 2019-02-28  short    12   5378.611118  0.539851"
            ]
          },
          "metadata": {
            "tags": []
          },
          "execution_count": 29
        }
      ]
    },
    {
      "cell_type": "code",
      "metadata": {
        "id": "9AjSYrClZE0B",
        "outputId": "55628fa8-f04a-4b47-9865-40cced31eaf5",
        "colab": {
          "base_uri": "https://localhost:8080/",
          "height": 142
        }
      },
      "source": [
        "num_trades = trade_df.groupby('SIDE').count()[['START']]\n",
        "num_trades_win = trade_df[trade_df.PNL > 0].groupby('SIDE').count()[['START']]\n",
        "\n",
        "avg_days = trade_df.groupby('SIDE').mean()[['DAYS']]\n",
        "\n",
        "avg_ret = trade_df.groupby('SIDE').mean()[['RET']]\n",
        "avg_ret_win = trade_df[trade_df.PNL > 0].groupby('SIDE').mean()[['RET']]\n",
        "avg_ret_loss = trade_df[trade_df.PNL < 0].groupby('SIDE').mean()[['RET']]\n",
        "\n",
        "std_ret = trade_df.groupby('SIDE').std()[['RET']]\n",
        "\n",
        "detail_df = pd.concat([\n",
        "                       num_trades, num_trades_win, avg_days,\n",
        "                       avg_ret, avg_ret_win, avg_ret_loss, std_ret\n",
        "                       ], axis=1, sort=False)\n",
        "\n",
        "detail_df.columns = [\n",
        "                     'NUM_TRADES', 'NUM_TRADES_WIN', 'AVG_DAYS', \n",
        "                     'AVG_RET', 'AVG_RET_WIN', 'AVG_RET_LOSS', 'STD_RET'\n",
        "                     ]\n",
        "\n",
        "detail_df.round(2)"
      ],
      "execution_count": null,
      "outputs": [
        {
          "output_type": "execute_result",
          "data": {
            "text/html": [
              "<div>\n",
              "<style scoped>\n",
              "    .dataframe tbody tr th:only-of-type {\n",
              "        vertical-align: middle;\n",
              "    }\n",
              "\n",
              "    .dataframe tbody tr th {\n",
              "        vertical-align: top;\n",
              "    }\n",
              "\n",
              "    .dataframe thead th {\n",
              "        text-align: right;\n",
              "    }\n",
              "</style>\n",
              "<table border=\"1\" class=\"dataframe\">\n",
              "  <thead>\n",
              "    <tr style=\"text-align: right;\">\n",
              "      <th></th>\n",
              "      <th>NUM_TRADES</th>\n",
              "      <th>NUM_TRADES_WIN</th>\n",
              "      <th>AVG_DAYS</th>\n",
              "      <th>AVG_RET</th>\n",
              "      <th>AVG_RET_WIN</th>\n",
              "      <th>AVG_RET_LOSS</th>\n",
              "      <th>STD_RET</th>\n",
              "    </tr>\n",
              "    <tr>\n",
              "      <th>SIDE</th>\n",
              "      <th></th>\n",
              "      <th></th>\n",
              "      <th></th>\n",
              "      <th></th>\n",
              "      <th></th>\n",
              "      <th></th>\n",
              "      <th></th>\n",
              "    </tr>\n",
              "  </thead>\n",
              "  <tbody>\n",
              "    <tr>\n",
              "      <th>long</th>\n",
              "      <td>12</td>\n",
              "      <td>9</td>\n",
              "      <td>7.25</td>\n",
              "      <td>1.56</td>\n",
              "      <td>2.75</td>\n",
              "      <td>-2.00</td>\n",
              "      <td>2.22</td>\n",
              "    </tr>\n",
              "    <tr>\n",
              "      <th>short</th>\n",
              "      <td>14</td>\n",
              "      <td>9</td>\n",
              "      <td>9.57</td>\n",
              "      <td>0.84</td>\n",
              "      <td>2.39</td>\n",
              "      <td>-1.96</td>\n",
              "      <td>2.50</td>\n",
              "    </tr>\n",
              "  </tbody>\n",
              "</table>\n",
              "</div>"
            ],
            "text/plain": [
              "       NUM_TRADES  NUM_TRADES_WIN  AVG_DAYS  ...  AVG_RET_WIN  AVG_RET_LOSS  STD_RET\n",
              "SIDE                                         ...                                    \n",
              "long           12               9      7.25  ...         2.75         -2.00     2.22\n",
              "short          14               9      9.57  ...         2.39         -1.96     2.50\n",
              "\n",
              "[2 rows x 7 columns]"
            ]
          },
          "metadata": {
            "tags": []
          },
          "execution_count": 30
        }
      ]
    },
    {
      "cell_type": "markdown",
      "metadata": {
        "id": "lu6FqckYBXWs"
      },
      "source": [
        "### Maximum Drawdown ###"
      ]
    },
    {
      "cell_type": "code",
      "metadata": {
        "id": "MbIbhs_eB6qv",
        "outputId": "2cee9fce-fb6e-43eb-b82a-484381200858",
        "colab": {
          "base_uri": "https://localhost:8080/",
          "height": 235
        }
      },
      "source": [
        "mv_df = pd.DataFrame(cum_value, index=bt_df.index, columns=['MV'])\n",
        "mv_df.head()"
      ],
      "execution_count": null,
      "outputs": [
        {
          "output_type": "execute_result",
          "data": {
            "text/html": [
              "<div>\n",
              "<style scoped>\n",
              "    .dataframe tbody tr th:only-of-type {\n",
              "        vertical-align: middle;\n",
              "    }\n",
              "\n",
              "    .dataframe tbody tr th {\n",
              "        vertical-align: top;\n",
              "    }\n",
              "\n",
              "    .dataframe thead th {\n",
              "        text-align: right;\n",
              "    }\n",
              "</style>\n",
              "<table border=\"1\" class=\"dataframe\">\n",
              "  <thead>\n",
              "    <tr style=\"text-align: right;\">\n",
              "      <th></th>\n",
              "      <th>MV</th>\n",
              "    </tr>\n",
              "    <tr>\n",
              "      <th>Date</th>\n",
              "      <th></th>\n",
              "    </tr>\n",
              "  </thead>\n",
              "  <tbody>\n",
              "    <tr>\n",
              "      <th>2019-01-02</th>\n",
              "      <td>1.000000e+06</td>\n",
              "    </tr>\n",
              "    <tr>\n",
              "      <th>2019-01-03</th>\n",
              "      <td>1.000000e+06</td>\n",
              "    </tr>\n",
              "    <tr>\n",
              "      <th>2019-01-04</th>\n",
              "      <td>1.000000e+06</td>\n",
              "    </tr>\n",
              "    <tr>\n",
              "      <th>2019-01-07</th>\n",
              "      <td>1.007231e+06</td>\n",
              "    </tr>\n",
              "    <tr>\n",
              "      <th>2019-01-08</th>\n",
              "      <td>1.000148e+06</td>\n",
              "    </tr>\n",
              "  </tbody>\n",
              "</table>\n",
              "</div>"
            ],
            "text/plain": [
              "                      MV\n",
              "Date                    \n",
              "2019-01-02  1.000000e+06\n",
              "2019-01-03  1.000000e+06\n",
              "2019-01-04  1.000000e+06\n",
              "2019-01-07  1.007231e+06\n",
              "2019-01-08  1.000148e+06"
            ]
          },
          "metadata": {
            "tags": []
          },
          "execution_count": 31
        }
      ]
    },
    {
      "cell_type": "code",
      "metadata": {
        "id": "ypeSOQdnF10_",
        "outputId": "e9002a30-f480-412d-b16c-1d4698f02bf1",
        "colab": {
          "base_uri": "https://localhost:8080/",
          "height": 51
        }
      },
      "source": [
        "days = len(mv_df)\n",
        "\n",
        "roll_max = mv_df.MV.rolling(window=days, min_periods=1).max()\n",
        "drawdown_val = mv_df.MV - roll_max\n",
        "drawdown_pct = (mv_df.MV / roll_max - 1) * 100\n",
        "\n",
        "print(\"Max Drawdown Value:\", round(drawdown_val.min(), 0))\n",
        "print(\"Max Drawdown %:\", round(drawdown_pct.min(), 2))"
      ],
      "execution_count": null,
      "outputs": [
        {
          "output_type": "stream",
          "text": [
            "Max Drawdown Value: -44100.0\n",
            "Max Drawdown %: -3.95\n"
          ],
          "name": "stdout"
        }
      ]
    },
    {
      "cell_type": "code",
      "metadata": {
        "id": "bAMsLkw_F24-"
      },
      "source": [
        "def run_stock_ta_backtest(bt_df, stop_loss_lvl=None):\n",
        "  balance = 1000000\n",
        "  pnl = 0\n",
        "  position = 0\n",
        "\n",
        "  last_signal = 'hold'\n",
        "  last_price = 0\n",
        "  c = 0\n",
        "\n",
        "  trade_date_start = []\n",
        "  trade_date_end = []\n",
        "  trade_days = []\n",
        "  trade_side = []\n",
        "  trade_pnl = []\n",
        "  trade_ret = []\n",
        "\n",
        "  cum_value = []\n",
        "\n",
        "  for index, row in bt_df.iterrows():\n",
        "      # check and close any positions\n",
        "      if row.EXIT_LONG and last_signal == 'long':\n",
        "        trade_date_end.append(row.name)\n",
        "        trade_days.append(c)\n",
        "\n",
        "        pnl = (row.Open - last_price) * position\n",
        "        trade_pnl.append(pnl)\n",
        "        trade_ret.append((row.Open / last_price - 1) * 100)\n",
        "        \n",
        "        balance = balance + row.Open * position\n",
        "        \n",
        "        position = 0\n",
        "        last_signal = 'hold'\n",
        "\n",
        "        c = 0\n",
        "      \n",
        "      elif row.EXIT_SHORT and last_signal == 'short':\n",
        "        trade_date_end.append(row.name)\n",
        "        trade_days.append(c)\n",
        "        \n",
        "        pnl = (row.Open - last_price) * position\n",
        "        trade_pnl.append(pnl)\n",
        "        trade_ret.append((last_price / row.Open - 1) * 100)\n",
        "\n",
        "        balance = balance + pnl\n",
        "\n",
        "        position = 0\n",
        "        last_signal = 'hold'\n",
        "\n",
        "        c = 0\n",
        "\n",
        "\n",
        "      # check signal and enter any possible position\n",
        "      if row.LONG and last_signal != 'long':\n",
        "        last_signal = 'long'\n",
        "        last_price = row.Open\n",
        "        trade_date_start.append(row.name)\n",
        "        trade_side.append('long')\n",
        "\n",
        "        position = int(balance / row.Open)\n",
        "        cost = position * row.Open\n",
        "        balance = balance - cost\n",
        "\n",
        "        c = 0\n",
        "\n",
        "      elif row.SHORT and last_signal != 'short':\n",
        "        last_signal = 'short'\n",
        "        last_price = row.Open\n",
        "        trade_date_start.append(row.name)\n",
        "        trade_side.append('short')\n",
        "\n",
        "        position = int(balance / row.Open) * -1\n",
        "        \n",
        "        c = 0\n",
        "      \n",
        "      if stop_loss_lvl:\n",
        "        # check stop loss\n",
        "        if last_signal == 'long' and (row.Low / last_price - 1) * 100 <= stop_loss_lvl:\n",
        "          c = c + 1\n",
        "\n",
        "          trade_date_end.append(row.name)\n",
        "          trade_days.append(c)\n",
        "\n",
        "          stop_loss_price = last_price + round(last_price * (stop_loss_lvl / 100), 4)\n",
        "\n",
        "          pnl = (stop_loss_price - last_price) * position\n",
        "          trade_pnl.append(pnl)\n",
        "          trade_ret.append((stop_loss_price / last_price - 1) * 100)\n",
        "          \n",
        "          balance = balance + stop_loss_price * position\n",
        "          \n",
        "          position = 0\n",
        "          last_signal = 'hold'\n",
        "\n",
        "          c = 0\n",
        "\n",
        "        elif last_signal == 'short' and (last_price / row.Low - 1) * 100 <= stop_loss_lvl:\n",
        "          c = c + 1\n",
        "\n",
        "          trade_date_end.append(row.name)\n",
        "          trade_days.append(c)\n",
        "          \n",
        "          stop_loss_price = last_price - round(last_price * (stop_loss_lvl / 100), 4)\n",
        "\n",
        "          pnl = (stop_loss_price - last_price) * position\n",
        "          trade_pnl.append(pnl)\n",
        "          trade_ret.append((last_price / stop_loss_price - 1) * 100)\n",
        "\n",
        "          balance = balance + pnl\n",
        "\n",
        "          position = 0\n",
        "          last_signal = 'hold'\n",
        "\n",
        "          c = 0\n",
        "\n",
        "    \n",
        "      # compute market value and count days for any possible poisition\n",
        "      if last_signal == 'hold':\n",
        "        market_value = balance\n",
        "      elif last_signal == 'long':\n",
        "        c = c + 1\n",
        "        market_value = position * row.Close + balance\n",
        "      else: \n",
        "        c = c + 1\n",
        "        market_value = (row.Close - last_price) * position + balance\n",
        "      \n",
        "      cum_value.append(market_value)\n",
        "\n",
        "\n",
        "  # generate analysis\n",
        "  # performance over time\n",
        "  cum_ret_df = pd.DataFrame(cum_value, index=bt_df.index, columns=['CUM_RET'])\n",
        "  cum_ret_df['CUM_RET'] = (cum_ret_df.CUM_RET / 1000000 - 1) * 100\n",
        "  cum_ret_df['BUY_HOLD'] = (bt_df.Close / bt_df.Open.iloc[0] - 1) * 100\n",
        "  cum_ret_df['ZERO'] = 0\n",
        "\n",
        "  # trade stats\n",
        "  size = min(len(trade_date_start), len(trade_date_end))\n",
        "\n",
        "  tarde_dict = {\n",
        "      'START': trade_date_start[:size],\n",
        "      'END': trade_date_end[:size],\n",
        "      'SIDE': trade_side[:size],\n",
        "      'DAYS': trade_days[:size],\n",
        "      'PNL': trade_pnl[:size],\n",
        "      'RET': trade_ret[:size]\n",
        "  }\n",
        "\n",
        "  trade_df = pd.DataFrame(tarde_dict)\n",
        "\n",
        "  num_trades = trade_df.groupby('SIDE').count()[['START']]\n",
        "  num_trades_win = trade_df[trade_df.PNL > 0].groupby('SIDE').count()[['START']]\n",
        "\n",
        "  avg_days = trade_df.groupby('SIDE').mean()[['DAYS']]\n",
        "\n",
        "  avg_ret = trade_df.groupby('SIDE').mean()[['RET']]\n",
        "  avg_ret_win = trade_df[trade_df.PNL > 0].groupby('SIDE').mean()[['RET']]\n",
        "  avg_ret_loss = trade_df[trade_df.PNL < 0].groupby('SIDE').mean()[['RET']]\n",
        "\n",
        "  std_ret = trade_df.groupby('SIDE').std()[['RET']]\n",
        "\n",
        "  detail_df = pd.concat([\n",
        "                        num_trades, num_trades_win, avg_days,\n",
        "                        avg_ret, avg_ret_win, avg_ret_loss, std_ret\n",
        "                        ], axis=1, sort=False)\n",
        "\n",
        "  detail_df.columns = [\n",
        "                      'NUM_TRADES', 'NUM_TRADES_WIN', 'AVG_DAYS', \n",
        "                      'AVG_RET', 'AVG_RET_WIN', 'AVG_RET_LOSS', 'STD_RET'\n",
        "                      ]\n",
        "\n",
        "  detail_df.round(2)\n",
        "\n",
        "  # max drawdown\n",
        "  mv_df = pd.DataFrame(cum_value, index=bt_df.index, columns=['MV'])\n",
        "\n",
        "  days = len(mv_df)\n",
        "\n",
        "  roll_max = mv_df.MV.rolling(window=days, min_periods=1).max()\n",
        "  drawdown_val = mv_df.MV - roll_max\n",
        "  drawdown_pct = (mv_df.MV / roll_max - 1) * 100\n",
        "\n",
        "  # return all stats\n",
        "  return {\n",
        "      'cum_ret_df': cum_ret_df,\n",
        "      'max_drawdown': {\n",
        "          'value': round(drawdown_val.min(), 0), \n",
        "          'pct': round(drawdown_pct.min(), 2)\n",
        "          },\n",
        "      'trade_stats': detail_df\n",
        "  }"
      ],
      "execution_count": null,
      "outputs": []
    },
    {
      "cell_type": "code",
      "metadata": {
        "id": "eb-3KjzfFekn"
      },
      "source": [
        "result = run_stock_ta_backtest(bt_df)"
      ],
      "execution_count": null,
      "outputs": []
    },
    {
      "cell_type": "code",
      "metadata": {
        "id": "1W6qgS6OFfZ1",
        "outputId": "fb53c29b-c5fe-446d-fe55-85252dc4ed4c",
        "colab": {
          "base_uri": "https://localhost:8080/",
          "height": 437
        }
      },
      "source": [
        "result['cum_ret_df'].plot(figsize=(15, 5))\n",
        "\n",
        "print('Max Drawdown:', result['max_drawdown']['pct'], '%')\n",
        "\n",
        "result['trade_stats']"
      ],
      "execution_count": null,
      "outputs": [
        {
          "output_type": "stream",
          "text": [
            "Max Drawdown: -4.05 %\n"
          ],
          "name": "stdout"
        },
        {
          "output_type": "execute_result",
          "data": {
            "text/html": [
              "<div>\n",
              "<style scoped>\n",
              "    .dataframe tbody tr th:only-of-type {\n",
              "        vertical-align: middle;\n",
              "    }\n",
              "\n",
              "    .dataframe tbody tr th {\n",
              "        vertical-align: top;\n",
              "    }\n",
              "\n",
              "    .dataframe thead th {\n",
              "        text-align: right;\n",
              "    }\n",
              "</style>\n",
              "<table border=\"1\" class=\"dataframe\">\n",
              "  <thead>\n",
              "    <tr style=\"text-align: right;\">\n",
              "      <th></th>\n",
              "      <th>NUM_TRADES</th>\n",
              "      <th>NUM_TRADES_WIN</th>\n",
              "      <th>AVG_DAYS</th>\n",
              "      <th>AVG_RET</th>\n",
              "      <th>AVG_RET_WIN</th>\n",
              "      <th>AVG_RET_LOSS</th>\n",
              "      <th>STD_RET</th>\n",
              "    </tr>\n",
              "  </thead>\n",
              "  <tbody>\n",
              "    <tr>\n",
              "      <th>long</th>\n",
              "      <td>10</td>\n",
              "      <td>10</td>\n",
              "      <td>9.4</td>\n",
              "      <td>2.287154</td>\n",
              "      <td>2.287154</td>\n",
              "      <td>NaN</td>\n",
              "      <td>1.149753</td>\n",
              "    </tr>\n",
              "    <tr>\n",
              "      <th>short</th>\n",
              "      <td>10</td>\n",
              "      <td>8</td>\n",
              "      <td>14.7</td>\n",
              "      <td>1.423340</td>\n",
              "      <td>2.172675</td>\n",
              "      <td>-1.573999</td>\n",
              "      <td>2.329005</td>\n",
              "    </tr>\n",
              "  </tbody>\n",
              "</table>\n",
              "</div>"
            ],
            "text/plain": [
              "       NUM_TRADES  NUM_TRADES_WIN  ...  AVG_RET_LOSS   STD_RET\n",
              "long           10              10  ...           NaN  1.149753\n",
              "short          10               8  ...     -1.573999  2.329005\n",
              "\n",
              "[2 rows x 7 columns]"
            ]
          },
          "metadata": {
            "tags": []
          },
          "execution_count": 35
        },
        {
          "output_type": "display_data",
          "data": {
            "image/png": "[encoded data removed]",
            "text/plain": [
              "<Figure size 1080x360 with 1 Axes>"
            ]
          },
          "metadata": {
            "tags": [],
            "needs_background": "light"
          }
        }
      ]
    },
    {
      "cell_type": "markdown",
      "metadata": {
        "id": "EgJCYvHltEQ9"
      },
      "source": [
        "### Put Functinos Together ###"
      ]
    },
    {
      "cell_type": "code",
      "metadata": {
        "id": "UdoymbVKTlTR",
        "outputId": "d63d8608-2b15-4e15-8183-1dcb1c632a56",
        "colab": {
          "base_uri": "https://localhost:8080/",
          "height": 454
        }
      },
      "source": [
        "ticker = 'ISF.L'\n",
        "start_date = '2019-01-01'\n",
        "end_date = '2019-12-31'\n",
        "\n",
        "df = get_stock_backtest_data(ticker, start_date, end_date)\n",
        "\n",
        "bt_df = prepare_stock_ta_backtest_data(\n",
        "    df, start_date, end_date, \n",
        "    strategy_KeltnerChannel_origin, n=10\n",
        "    )\n",
        "\n",
        "result = run_stock_ta_backtest(bt_df)\n",
        "\n",
        "result['cum_ret_df'].plot(figsize=(15, 5))\n",
        "print('Max Drawdown:', result['max_drawdown']['pct'], '%')\n",
        "result['trade_stats']"
      ],
      "execution_count": null,
      "outputs": [
        {
          "output_type": "stream",
          "text": [
            "\r[*********************100%***********************]  1 of 1 completed\n",
            "Max Drawdown: -4.05 %\n"
          ],
          "name": "stdout"
        },
        {
          "output_type": "execute_result",
          "data": {
            "text/html": [
              "<div>\n",
              "<style scoped>\n",
              "    .dataframe tbody tr th:only-of-type {\n",
              "        vertical-align: middle;\n",
              "    }\n",
              "\n",
              "    .dataframe tbody tr th {\n",
              "        vertical-align: top;\n",
              "    }\n",
              "\n",
              "    .dataframe thead th {\n",
              "        text-align: right;\n",
              "    }\n",
              "</style>\n",
              "<table border=\"1\" class=\"dataframe\">\n",
              "  <thead>\n",
              "    <tr style=\"text-align: right;\">\n",
              "      <th></th>\n",
              "      <th>NUM_TRADES</th>\n",
              "      <th>NUM_TRADES_WIN</th>\n",
              "      <th>AVG_DAYS</th>\n",
              "      <th>AVG_RET</th>\n",
              "      <th>AVG_RET_WIN</th>\n",
              "      <th>AVG_RET_LOSS</th>\n",
              "      <th>STD_RET</th>\n",
              "    </tr>\n",
              "  </thead>\n",
              "  <tbody>\n",
              "    <tr>\n",
              "      <th>long</th>\n",
              "      <td>10</td>\n",
              "      <td>10</td>\n",
              "      <td>9.4</td>\n",
              "      <td>2.287154</td>\n",
              "      <td>2.287154</td>\n",
              "      <td>NaN</td>\n",
              "      <td>1.149753</td>\n",
              "    </tr>\n",
              "    <tr>\n",
              "      <th>short</th>\n",
              "      <td>10</td>\n",
              "      <td>8</td>\n",
              "      <td>14.7</td>\n",
              "      <td>1.423340</td>\n",
              "      <td>2.172675</td>\n",
              "      <td>-1.573999</td>\n",
              "      <td>2.329005</td>\n",
              "    </tr>\n",
              "  </tbody>\n",
              "</table>\n",
              "</div>"
            ],
            "text/plain": [
              "       NUM_TRADES  NUM_TRADES_WIN  ...  AVG_RET_LOSS   STD_RET\n",
              "long           10              10  ...           NaN  1.149753\n",
              "short          10               8  ...     -1.573999  2.329005\n",
              "\n",
              "[2 rows x 7 columns]"
            ]
          },
          "metadata": {
            "tags": []
          },
          "execution_count": 36
        },
        {
          "output_type": "display_data",
          "data": {
            "image/png": "[encoded data removed]",
            "text/plain": [
              "<Figure size 1080x360 with 1 Axes>"
            ]
          },
          "metadata": {
            "tags": [],
            "needs_background": "light"
          }
        }
      ]
    },
    {
      "cell_type": "markdown",
      "metadata": {
        "id": "Kdbop-R__W1A"
      },
      "source": [
        "### Try Different Inputs ###"
      ]
    },
    {
      "cell_type": "code",
      "metadata": {
        "id": "qRbVnPNIF3EX",
        "outputId": "59c74265-df43-4610-c77a-3ff4dbe1b2b8",
        "colab": {
          "base_uri": "https://localhost:8080/",
          "height": 562
        }
      },
      "source": [
        "ticker = 'ISF.L'\n",
        "start_date = '2019-01-01'\n",
        "end_date = '2019-12-31'\n",
        "\n",
        "df = get_stock_backtest_data(ticker, start_date, end_date)\n",
        "\n",
        "\n",
        "n_list = [i for i in range(10, 30, 5)]\n",
        "stop_loss_lvl = [-i for i in range(2, 5, 1)]\n",
        "stop_loss_lvl.append(None)\n",
        "\n",
        "result_dict = {\n",
        "    'n': [],\n",
        "    'l': [],\n",
        "    'return': [],\n",
        "    'max_drawdown': []\n",
        "}\n",
        "\n",
        "for n in n_list:\n",
        "  for l in stop_loss_lvl:\n",
        "    bt_df = prepare_stock_ta_backtest_data(\n",
        "        df, start_date, end_date, \n",
        "        strategy_KeltnerChannel_origin, n=n\n",
        "        )\n",
        "\n",
        "    result = run_stock_ta_backtest(bt_df, stop_loss_lvl=l)\n",
        "\n",
        "    result_dict['n'].append(n)\n",
        "    result_dict['l'].append(l)\n",
        "    result_dict['return'].append(result['cum_ret_df'].iloc[-1, 0])\n",
        "    result_dict['max_drawdown'].append(result['max_drawdown']['pct'])\n",
        "\n",
        "\n",
        "df = pd.DataFrame(result_dict)\n",
        "df.sort_values('return', ascending=False)"
      ],
      "execution_count": null,
      "outputs": [
        {
          "output_type": "stream",
          "text": [
            "\r[*********************100%***********************]  1 of 1 completed\n"
          ],
          "name": "stdout"
        },
        {
          "output_type": "execute_result",
          "data": {
            "text/html": [
              "<div>\n",
              "<style scoped>\n",
              "    .dataframe tbody tr th:only-of-type {\n",
              "        vertical-align: middle;\n",
              "    }\n",
              "\n",
              "    .dataframe tbody tr th {\n",
              "        vertical-align: top;\n",
              "    }\n",
              "\n",
              "    .dataframe thead th {\n",
              "        text-align: right;\n",
              "    }\n",
              "</style>\n",
              "<table border=\"1\" class=\"dataframe\">\n",
              "  <thead>\n",
              "    <tr style=\"text-align: right;\">\n",
              "      <th></th>\n",
              "      <th>n</th>\n",
              "      <th>l</th>\n",
              "      <th>return</th>\n",
              "      <th>max_drawdown</th>\n",
              "    </tr>\n",
              "  </thead>\n",
              "  <tbody>\n",
              "    <tr>\n",
              "      <th>1</th>\n",
              "      <td>10</td>\n",
              "      <td>-3.0</td>\n",
              "      <td>41.361207</td>\n",
              "      <td>-3.61</td>\n",
              "    </tr>\n",
              "    <tr>\n",
              "      <th>2</th>\n",
              "      <td>10</td>\n",
              "      <td>-4.0</td>\n",
              "      <td>41.298869</td>\n",
              "      <td>-4.05</td>\n",
              "    </tr>\n",
              "    <tr>\n",
              "      <th>3</th>\n",
              "      <td>10</td>\n",
              "      <td>NaN</td>\n",
              "      <td>41.298869</td>\n",
              "      <td>-4.05</td>\n",
              "    </tr>\n",
              "    <tr>\n",
              "      <th>0</th>\n",
              "      <td>10</td>\n",
              "      <td>-2.0</td>\n",
              "      <td>36.672098</td>\n",
              "      <td>-3.61</td>\n",
              "    </tr>\n",
              "    <tr>\n",
              "      <th>4</th>\n",
              "      <td>15</td>\n",
              "      <td>-2.0</td>\n",
              "      <td>28.139365</td>\n",
              "      <td>-5.89</td>\n",
              "    </tr>\n",
              "    <tr>\n",
              "      <th>6</th>\n",
              "      <td>15</td>\n",
              "      <td>-4.0</td>\n",
              "      <td>27.425182</td>\n",
              "      <td>-5.71</td>\n",
              "    </tr>\n",
              "    <tr>\n",
              "      <th>7</th>\n",
              "      <td>15</td>\n",
              "      <td>NaN</td>\n",
              "      <td>27.425182</td>\n",
              "      <td>-5.71</td>\n",
              "    </tr>\n",
              "    <tr>\n",
              "      <th>10</th>\n",
              "      <td>20</td>\n",
              "      <td>-4.0</td>\n",
              "      <td>25.034149</td>\n",
              "      <td>-7.16</td>\n",
              "    </tr>\n",
              "    <tr>\n",
              "      <th>11</th>\n",
              "      <td>20</td>\n",
              "      <td>NaN</td>\n",
              "      <td>22.976459</td>\n",
              "      <td>-8.69</td>\n",
              "    </tr>\n",
              "    <tr>\n",
              "      <th>5</th>\n",
              "      <td>15</td>\n",
              "      <td>-3.0</td>\n",
              "      <td>21.667186</td>\n",
              "      <td>-7.92</td>\n",
              "    </tr>\n",
              "    <tr>\n",
              "      <th>9</th>\n",
              "      <td>20</td>\n",
              "      <td>-3.0</td>\n",
              "      <td>16.704165</td>\n",
              "      <td>-11.53</td>\n",
              "    </tr>\n",
              "    <tr>\n",
              "      <th>8</th>\n",
              "      <td>20</td>\n",
              "      <td>-2.0</td>\n",
              "      <td>14.643611</td>\n",
              "      <td>-12.19</td>\n",
              "    </tr>\n",
              "    <tr>\n",
              "      <th>14</th>\n",
              "      <td>25</td>\n",
              "      <td>-4.0</td>\n",
              "      <td>13.180203</td>\n",
              "      <td>-10.06</td>\n",
              "    </tr>\n",
              "    <tr>\n",
              "      <th>15</th>\n",
              "      <td>25</td>\n",
              "      <td>NaN</td>\n",
              "      <td>12.013356</td>\n",
              "      <td>-11.34</td>\n",
              "    </tr>\n",
              "    <tr>\n",
              "      <th>13</th>\n",
              "      <td>25</td>\n",
              "      <td>-3.0</td>\n",
              "      <td>7.314290</td>\n",
              "      <td>-8.78</td>\n",
              "    </tr>\n",
              "    <tr>\n",
              "      <th>12</th>\n",
              "      <td>25</td>\n",
              "      <td>-2.0</td>\n",
              "      <td>6.472826</td>\n",
              "      <td>-7.70</td>\n",
              "    </tr>\n",
              "  </tbody>\n",
              "</table>\n",
              "</div>"
            ],
            "text/plain": [
              "     n    l     return  max_drawdown\n",
              "1   10 -3.0  41.361207         -3.61\n",
              "2   10 -4.0  41.298869         -4.05\n",
              "3   10  NaN  41.298869         -4.05\n",
              "0   10 -2.0  36.672098         -3.61\n",
              "4   15 -2.0  28.139365         -5.89\n",
              "6   15 -4.0  27.425182         -5.71\n",
              "7   15  NaN  27.425182         -5.71\n",
              "10  20 -4.0  25.034149         -7.16\n",
              "11  20  NaN  22.976459         -8.69\n",
              "5   15 -3.0  21.667186         -7.92\n",
              "9   20 -3.0  16.704165        -11.53\n",
              "8   20 -2.0  14.643611        -12.19\n",
              "14  25 -4.0  13.180203        -10.06\n",
              "15  25  NaN  12.013356        -11.34\n",
              "13  25 -3.0   7.314290         -8.78\n",
              "12  25 -2.0   6.472826         -7.70"
            ]
          },
          "metadata": {
            "tags": []
          },
          "execution_count": 37
        }
      ]
    },
    {
      "cell_type": "markdown",
      "metadata": {
        "id": "ksNuDdsLIR5r"
      },
      "source": [
        "### Try Multiple Strategies ###\n",
        "\n",
        "Key idea"
      ]
    },
    {
      "cell_type": "code",
      "metadata": {
        "id": "Wg2zGBrJR-D0",
        "outputId": "1ecd94a0-8aa6-4ed2-ca9c-f64fb65692a3",
        "colab": {
          "base_uri": "https://localhost:8080/",
          "height": 153
        }
      },
      "source": [
        "from itertools import product\n",
        "\n",
        "a = [5, 10]\n",
        "b = [1, 3]\n",
        "c = [2, 4]\n",
        "\n",
        "list(product(a, b, c))"
      ],
      "execution_count": null,
      "outputs": [
        {
          "output_type": "execute_result",
          "data": {
            "text/plain": [
              "[(5, 1, 2),\n",
              " (5, 1, 4),\n",
              " (5, 3, 2),\n",
              " (5, 3, 4),\n",
              " (10, 1, 2),\n",
              " (10, 1, 4),\n",
              " (10, 3, 2),\n",
              " (10, 3, 4)]"
            ]
          },
          "metadata": {
            "tags": []
          },
          "execution_count": 38
        }
      ]
    },
    {
      "cell_type": "code",
      "metadata": {
        "id": "Rp7Mkmxo-HGC",
        "outputId": "0afeebb8-5ca1-40d5-80d0-e697cc42185b",
        "colab": {
          "base_uri": "https://localhost:8080/",
          "height": 153
        }
      },
      "source": [
        "param_list = [a, b, c]\n",
        "\n",
        "list(product(*param_list))"
      ],
      "execution_count": null,
      "outputs": [
        {
          "output_type": "execute_result",
          "data": {
            "text/plain": [
              "[(5, 1, 2),\n",
              " (5, 1, 4),\n",
              " (5, 3, 2),\n",
              " (5, 3, 4),\n",
              " (10, 1, 2),\n",
              " (10, 1, 4),\n",
              " (10, 3, 2),\n",
              " (10, 3, 4)]"
            ]
          },
          "metadata": {
            "tags": []
          },
          "execution_count": 39
        }
      ]
    },
    {
      "cell_type": "code",
      "metadata": {
        "id": "Z9ec3YarTcdI",
        "outputId": "400f4550-6fb1-4960-8aef-414a38f0f698",
        "colab": {
          "base_uri": "https://localhost:8080/",
          "height": 34
        }
      },
      "source": [
        "def test_func(**kwargs):\n",
        "  a = kwargs.get('a', 10)\n",
        "  b = kwargs.get('b', 2)\n",
        "  c = kwargs.get('c', 2)\n",
        "\n",
        "  print(a, b, c)\n",
        "\n",
        "\n",
        "test_func(a=1, b=2, c=3)"
      ],
      "execution_count": null,
      "outputs": [
        {
          "output_type": "stream",
          "text": [
            "1 2 3\n"
          ],
          "name": "stdout"
        }
      ]
    },
    {
      "cell_type": "code",
      "metadata": {
        "id": "fJFGnSv5UA_n",
        "outputId": "2655026d-b86a-4699-9497-5acd28bd69bc",
        "colab": {
          "base_uri": "https://localhost:8080/",
          "height": 34
        }
      },
      "source": [
        "param_dict = {'a': 1, 'b': 2, 'c': 3}\n",
        "\n",
        "test_func(**param_dict)"
      ],
      "execution_count": null,
      "outputs": [
        {
          "output_type": "stream",
          "text": [
            "1 2 3\n"
          ],
          "name": "stdout"
        }
      ]
    },
    {
      "cell_type": "code",
      "metadata": {
        "id": "qDX9q74rVoTw",
        "outputId": "fb7d45f3-7386-4692-fe0f-3f7c01b58e0e",
        "colab": {
          "base_uri": "https://localhost:8080/",
          "height": 34
        }
      },
      "source": [
        "param_name = ['a', 'b', 'c']\n",
        "param = [1, 2, 3]\n",
        "\n",
        "dict(zip(param_name, param))"
      ],
      "execution_count": null,
      "outputs": [
        {
          "output_type": "execute_result",
          "data": {
            "text/plain": [
              "{'a': 1, 'b': 2, 'c': 3}"
            ]
          },
          "metadata": {
            "tags": []
          },
          "execution_count": 42
        }
      ]
    },
    {
      "cell_type": "code",
      "metadata": {
        "id": "N8WrxXFGBVN2",
        "outputId": "82de2ff7-4e57-40e8-88ba-dcb3700d884e",
        "colab": {
          "base_uri": "https://localhost:8080/",
          "height": 34
        }
      },
      "source": [
        "dict(zip(['a', 'b', 'c'], [1, 2, 3]))"
      ],
      "execution_count": null,
      "outputs": [
        {
          "output_type": "execute_result",
          "data": {
            "text/plain": [
              "{'a': 1, 'b': 2, 'c': 3}"
            ]
          },
          "metadata": {
            "tags": []
          },
          "execution_count": 43
        }
      ]
    },
    {
      "cell_type": "code",
      "metadata": {
        "id": "5y8BcfXeUGey",
        "outputId": "7e769f05-c16f-4abe-8e92-c9f8e2d48f69",
        "colab": {
          "base_uri": "https://localhost:8080/",
          "height": 153
        }
      },
      "source": [
        "a = [5, 10]\n",
        "b = [1, 3]\n",
        "c = [2, 4]\n",
        "\n",
        "param_list = [a, b, c]\n",
        "\n",
        "param_name = ['a', 'b', 'c']\n",
        "\n",
        "param_dict_list = [dict(zip(param_name, param)) for param in list(product(*param_list))]\n",
        "\n",
        "param_dict_list"
      ],
      "execution_count": null,
      "outputs": [
        {
          "output_type": "execute_result",
          "data": {
            "text/plain": [
              "[{'a': 5, 'b': 1, 'c': 2},\n",
              " {'a': 5, 'b': 1, 'c': 4},\n",
              " {'a': 5, 'b': 3, 'c': 2},\n",
              " {'a': 5, 'b': 3, 'c': 4},\n",
              " {'a': 10, 'b': 1, 'c': 2},\n",
              " {'a': 10, 'b': 1, 'c': 4},\n",
              " {'a': 10, 'b': 3, 'c': 2},\n",
              " {'a': 10, 'b': 3, 'c': 4}]"
            ]
          },
          "metadata": {
            "tags": []
          },
          "execution_count": 44
        }
      ]
    },
    {
      "cell_type": "code",
      "metadata": {
        "id": "krfXkl0aV5UP",
        "outputId": "5d815855-4389-4722-c6e0-99dc5fe9b63b",
        "colab": {
          "base_uri": "https://localhost:8080/",
          "height": 153
        }
      },
      "source": [
        "for param_dict in param_dict_list:\n",
        "  test_func(**param_dict)"
      ],
      "execution_count": null,
      "outputs": [
        {
          "output_type": "stream",
          "text": [
            "5 1 2\n",
            "5 1 4\n",
            "5 3 2\n",
            "5 3 4\n",
            "10 1 2\n",
            "10 1 4\n",
            "10 3 2\n",
            "10 3 4\n"
          ],
          "name": "stdout"
        }
      ]
    },
    {
      "cell_type": "markdown",
      "metadata": {
        "id": "R4b5CkA5W8-z"
      },
      "source": [
        "- K Band 10\n",
        "- Boll 20 2\n",
        "- Simple MA 50\n",
        "- EMA 50\n",
        "- MACD 12 26 9\n",
        "- RSI 14\n",
        "- WR 14\n",
        "- Stochastic Fast 20 5\n",
        "- Stochastic Slow 20 5 3\n",
        "- Ichimoku 9 26 26"
      ]
    },
    {
      "cell_type": "code",
      "metadata": {
        "id": "PlJpa8UQW6zP"
      },
      "source": [
        "strategies = [\n",
        "  {\n",
        "    'func': strategy_KeltnerChannel_origin,\n",
        "    'param': {\n",
        "      'n': [i for i in range(10, 35, 5)]\n",
        "    }\n",
        "  },\n",
        "\n",
        "  {\n",
        "    'func': strategy_BollingerBands,\n",
        "    'param': {\n",
        "      'n': [i for i in range(10, 35, 5)],\n",
        "      'n_rng': [1, 2]\n",
        "    }\n",
        "  },\n",
        "\n",
        "  {\n",
        "    'func': strategy_MA,\n",
        "    'param': {\n",
        "      'n': [i for i in range(10, 110, 10)],\n",
        "      'ma_type': ['sma', 'ema']\n",
        "    }\n",
        "  },\n",
        "\n",
        "  {\n",
        "    'func': strategy_MACD,\n",
        "    'param': {\n",
        "      'n_slow': [i for i in range(10, 16)],\n",
        "      'n_fast': [i for i in range(20, 26)],\n",
        "      'n_sign': [i for i in range(5, 11)]\n",
        "    }\n",
        "  },\n",
        "\n",
        "  {\n",
        "    'func': strategy_RSI,\n",
        "    'param': {\n",
        "      'n': [i for i in range(5, 21)]\n",
        "    }\n",
        "  },\n",
        "\n",
        "  {\n",
        "    'func': strategy_WR,\n",
        "    'param': {\n",
        "      'n': [i for i in range(5, 21)]\n",
        "    }\n",
        "  },\n",
        "\n",
        "  {\n",
        "    'func': strategy_Stochastic_fast,\n",
        "    'param': {\n",
        "      'k': [i for i in range(15, 26)],\n",
        "      'd': [i for i in range(5, 11)]\n",
        "    }\n",
        "  },\n",
        "\n",
        "  {\n",
        "    'func': strategy_Stochastic_slow,\n",
        "    'param': {\n",
        "      'k': [i for i in range(15, 26)],\n",
        "      'd': [i for i in range(5, 11)],\n",
        "      'dd': [i for i in range(1, 6)]\n",
        "    }\n",
        "  },\n",
        "\n",
        "  {\n",
        "    'func': strategy_Ichmoku,\n",
        "    'param': {\n",
        "      'n_conv': [i for i in range(5, 16)],\n",
        "      'n_base': [i for i in range(20, 36)],\n",
        "      'n_span_b': [26]\n",
        "    }\n",
        "  },\n",
        "]"
      ],
      "execution_count": null,
      "outputs": []
    },
    {
      "cell_type": "code",
      "metadata": {
        "id": "48rtbswJrZUH",
        "outputId": "f0f34b21-c86e-48d4-deba-4e9af03e946f",
        "colab": {
          "base_uri": "https://localhost:8080/",
          "height": 170
        }
      },
      "source": [
        "for s in strategies:\n",
        "  func = s['func']\n",
        "  param = s['param']\n",
        "\n",
        "  param_name = []\n",
        "  param_list = []\n",
        "\n",
        "  for k in param:\n",
        "    param_name.append(k)\n",
        "    param_list.append(param[k])\n",
        "\n",
        "  param_dict_list = [dict(zip(param_name, param)) for param in list(product(*param_list))]\n",
        "  \n",
        "  print(len(param_dict_list))"
      ],
      "execution_count": null,
      "outputs": [
        {
          "output_type": "stream",
          "text": [
            "5\n",
            "10\n",
            "20\n",
            "216\n",
            "16\n",
            "16\n",
            "66\n",
            "330\n",
            "176\n"
          ],
          "name": "stdout"
        }
      ]
    },
    {
      "cell_type": "markdown",
      "metadata": {
        "id": "YqycHAfsqTfY"
      },
      "source": [
        "### Testing Multiple Strategies ###"
      ]
    },
    {
      "cell_type": "code",
      "metadata": {
        "id": "620_mhiPvkPJ",
        "outputId": "57640cc0-d971-47c5-f405-34bf198193b6",
        "colab": {
          "base_uri": "https://localhost:8080/",
          "height": 34
        }
      },
      "source": [
        "ticker = 'ISF.L'\n",
        "start_date = '2019-01-01'\n",
        "end_date = '2019-12-31'\n",
        "\n",
        "df = get_stock_backtest_data(ticker, start_date, end_date)\n",
        "\n",
        "stop_loss_lvl = [-i for i in range(2, 6, 1)]\n",
        "stop_loss_lvl.append(None)\n",
        "\n",
        "result_dict = {\n",
        "    'strategy': [],\n",
        "    'param': [],\n",
        "    'stoploss': [],\n",
        "    'return': [],\n",
        "    'max_drawdown': []\n",
        "}"
      ],
      "execution_count": null,
      "outputs": [
        {
          "output_type": "stream",
          "text": [
            "\r[*********************100%***********************]  1 of 1 completed\n"
          ],
          "name": "stdout"
        }
      ]
    },
    {
      "cell_type": "code",
      "metadata": {
        "id": "SDmyvxCXeJYr",
        "outputId": "0bd37a54-9326-463d-9cd8-088c05718979",
        "colab": {
          "base_uri": "https://localhost:8080/",
          "height": 376
        }
      },
      "source": [
        "for s in strategies:\n",
        "  func = s['func']\n",
        "  param = s['param']\n",
        "\n",
        "  strategy_name = str(func).split(' ')[1]\n",
        "\n",
        "  param_name = []\n",
        "  param_list = []\n",
        "\n",
        "  for k in param:\n",
        "    param_name.append(k)\n",
        "    param_list.append(param[k])\n",
        "\n",
        "  param_dict_list = [dict(zip(param_name, param)) for param in list(product(*param_list))]\n",
        "  total_param_dict = len(param_dict_list)\n",
        "\n",
        "  c = 0\n",
        "\n",
        "  for param_dict in param_dict_list:\n",
        "    clear_output()\n",
        "    c = c + 1\n",
        "    print('Running backtest for {} - ({}/{})'.format(strategy_name, c, total_param_dict))\n",
        "\n",
        "    for l in stop_loss_lvl:\n",
        "      bt_df = prepare_stock_ta_backtest_data(\n",
        "          df, start_date, end_date, \n",
        "          func, **param_dict)\n",
        "\n",
        "      result = run_stock_ta_backtest(bt_df, stop_loss_lvl=l)\n",
        "\n",
        "      result_dict['strategy'].append(strategy_name)\n",
        "      result_dict['param'].append(str(param_dict))\n",
        "      result_dict['stoploss'].append(l)\n",
        "      result_dict['return'].append(result['cum_ret_df'].iloc[-1, 0])\n",
        "      result_dict['max_drawdown'].append(result['max_drawdown']['pct'])\n",
        "\n",
        "\n",
        "df = pd.DataFrame(result_dict)\n",
        "df.sort_values('return', ascending=False).head(10)"
      ],
      "execution_count": null,
      "outputs": [
        {
          "output_type": "stream",
          "text": [
            "Running backtest for strategy_Ichmoku - (176/176)\n"
          ],
          "name": "stdout"
        },
        {
          "output_type": "execute_result",
          "data": {
            "text/html": [
              "<div>\n",
              "<style scoped>\n",
              "    .dataframe tbody tr th:only-of-type {\n",
              "        vertical-align: middle;\n",
              "    }\n",
              "\n",
              "    .dataframe tbody tr th {\n",
              "        vertical-align: top;\n",
              "    }\n",
              "\n",
              "    .dataframe thead th {\n",
              "        text-align: right;\n",
              "    }\n",
              "</style>\n",
              "<table border=\"1\" class=\"dataframe\">\n",
              "  <thead>\n",
              "    <tr style=\"text-align: right;\">\n",
              "      <th></th>\n",
              "      <th>strategy</th>\n",
              "      <th>param</th>\n",
              "      <th>stoploss</th>\n",
              "      <th>return</th>\n",
              "      <th>max_drawdown</th>\n",
              "    </tr>\n",
              "  </thead>\n",
              "  <tbody>\n",
              "    <tr>\n",
              "      <th>1</th>\n",
              "      <td>strategy_KeltnerChannel_origin</td>\n",
              "      <td>{'n': 10}</td>\n",
              "      <td>-3.0</td>\n",
              "      <td>41.361207</td>\n",
              "      <td>-3.61</td>\n",
              "    </tr>\n",
              "    <tr>\n",
              "      <th>4</th>\n",
              "      <td>strategy_KeltnerChannel_origin</td>\n",
              "      <td>{'n': 10}</td>\n",
              "      <td>NaN</td>\n",
              "      <td>41.298869</td>\n",
              "      <td>-4.05</td>\n",
              "    </tr>\n",
              "    <tr>\n",
              "      <th>2</th>\n",
              "      <td>strategy_KeltnerChannel_origin</td>\n",
              "      <td>{'n': 10}</td>\n",
              "      <td>-4.0</td>\n",
              "      <td>41.298869</td>\n",
              "      <td>-4.05</td>\n",
              "    </tr>\n",
              "    <tr>\n",
              "      <th>3</th>\n",
              "      <td>strategy_KeltnerChannel_origin</td>\n",
              "      <td>{'n': 10}</td>\n",
              "      <td>-5.0</td>\n",
              "      <td>41.298869</td>\n",
              "      <td>-4.05</td>\n",
              "    </tr>\n",
              "    <tr>\n",
              "      <th>0</th>\n",
              "      <td>strategy_KeltnerChannel_origin</td>\n",
              "      <td>{'n': 10}</td>\n",
              "      <td>-2.0</td>\n",
              "      <td>36.672098</td>\n",
              "      <td>-3.61</td>\n",
              "    </tr>\n",
              "    <tr>\n",
              "      <th>1252</th>\n",
              "      <td>strategy_MACD</td>\n",
              "      <td>{'n_slow': 15, 'n_fast': 25, 'n_sign': 10}</td>\n",
              "      <td>-4.0</td>\n",
              "      <td>32.702212</td>\n",
              "      <td>-4.38</td>\n",
              "    </tr>\n",
              "    <tr>\n",
              "      <th>1254</th>\n",
              "      <td>strategy_MACD</td>\n",
              "      <td>{'n_slow': 15, 'n_fast': 25, 'n_sign': 10}</td>\n",
              "      <td>NaN</td>\n",
              "      <td>32.702212</td>\n",
              "      <td>-4.38</td>\n",
              "    </tr>\n",
              "    <tr>\n",
              "      <th>1253</th>\n",
              "      <td>strategy_MACD</td>\n",
              "      <td>{'n_slow': 15, 'n_fast': 25, 'n_sign': 10}</td>\n",
              "      <td>-5.0</td>\n",
              "      <td>32.702212</td>\n",
              "      <td>-4.38</td>\n",
              "    </tr>\n",
              "    <tr>\n",
              "      <th>1132</th>\n",
              "      <td>strategy_MACD</td>\n",
              "      <td>{'n_slow': 15, 'n_fast': 21, 'n_sign': 10}</td>\n",
              "      <td>-4.0</td>\n",
              "      <td>31.784431</td>\n",
              "      <td>-4.05</td>\n",
              "    </tr>\n",
              "    <tr>\n",
              "      <th>1134</th>\n",
              "      <td>strategy_MACD</td>\n",
              "      <td>{'n_slow': 15, 'n_fast': 21, 'n_sign': 10}</td>\n",
              "      <td>NaN</td>\n",
              "      <td>31.784431</td>\n",
              "      <td>-4.05</td>\n",
              "    </tr>\n",
              "  </tbody>\n",
              "</table>\n",
              "</div>"
            ],
            "text/plain": [
              "                            strategy  ... max_drawdown\n",
              "1     strategy_KeltnerChannel_origin  ...        -3.61\n",
              "4     strategy_KeltnerChannel_origin  ...        -4.05\n",
              "2     strategy_KeltnerChannel_origin  ...        -4.05\n",
              "3     strategy_KeltnerChannel_origin  ...        -4.05\n",
              "0     strategy_KeltnerChannel_origin  ...        -3.61\n",
              "1252                   strategy_MACD  ...        -4.38\n",
              "1254                   strategy_MACD  ...        -4.38\n",
              "1253                   strategy_MACD  ...        -4.38\n",
              "1132                   strategy_MACD  ...        -4.05\n",
              "1134                   strategy_MACD  ...        -4.05\n",
              "\n",
              "[10 rows x 5 columns]"
            ]
          },
          "metadata": {
            "tags": []
          },
          "execution_count": 49
        }
      ]
    },
    {
      "cell_type": "markdown",
      "metadata": {
        "id": "FvHUnbV-qcAA"
      },
      "source": [
        "### Testing Dynamic Strategy Picking ###"
      ]
    },
    {
      "cell_type": "code",
      "metadata": {
        "id": "eS_owlfdtTeZ"
      },
      "source": [
        "def pick_top_strategy(ticker, start_date, end_date, strategies):\n",
        "  df = get_stock_backtest_data(ticker, start_date, end_date)\n",
        "\n",
        "  stop_loss_lvl = [-i for i in range(2, 6, 1)]\n",
        "  stop_loss_lvl.append(None)\n",
        "\n",
        "  result_dict = {\n",
        "      'strategy': [],\n",
        "      'param': [],\n",
        "      'stoploss': [],\n",
        "      'return': [],\n",
        "      'max_drawdown': []\n",
        "  }\n",
        "\n",
        "  for s in strategies:\n",
        "    func = s['func']\n",
        "    param = s['param']\n",
        "\n",
        "    strategy_name = str(func).split(' ')[1]\n",
        "\n",
        "    param_name = []\n",
        "    param_list = []\n",
        "\n",
        "    for k in param:\n",
        "      param_name.append(k)\n",
        "      param_list.append(param[k])\n",
        "\n",
        "    param_dict_list = [dict(zip(param_name, param)) for param in list(product(*param_list))]\n",
        "    total_param_dict = len(param_dict_list)\n",
        "\n",
        "    c = 0\n",
        "\n",
        "    for param_dict in param_dict_list:\n",
        "      clear_output()\n",
        "      c = c + 1\n",
        "      print('Running backtest for {} - ({}/{})'.format(strategy_name, c, total_param_dict))\n",
        "\n",
        "      for l in stop_loss_lvl:\n",
        "        bt_df = prepare_stock_ta_backtest_data(\n",
        "            df, start_date, end_date, \n",
        "            func, **param_dict)\n",
        "\n",
        "        result = run_stock_ta_backtest(bt_df, stop_loss_lvl=l)\n",
        "\n",
        "        result_dict['strategy'].append(strategy_name)\n",
        "        result_dict['param'].append(str(param_dict))\n",
        "        result_dict['stoploss'].append(l)\n",
        "        result_dict['return'].append(result['cum_ret_df'].iloc[-1, 0])\n",
        "        result_dict['max_drawdown'].append(result['max_drawdown']['pct'])\n",
        "\n",
        "  clear_output()\n",
        "\n",
        "  df = pd.DataFrame(result_dict)\n",
        "  df = df[df['return'] > 0]\n",
        "  top_df = df.sort_values(['return', 'max_drawdown'], ascending=[False, False]).head(1).iloc[0]\n",
        "\n",
        "  if len(top_df):\n",
        "    return {\n",
        "        'strategy': eval(top_df['strategy']), \n",
        "        'param': eval(top_df['param']), \n",
        "        'stoploss': top_df['stoploss']\n",
        "    }\n",
        "  else:\n",
        "    return None\n",
        "\n",
        "\n",
        "# top_strategy = pick_top_strategy(ticker, start_date, end_date, strategies)"
      ],
      "execution_count": null,
      "outputs": []
    },
    {
      "cell_type": "code",
      "metadata": {
        "id": "YHOGgTFuIOTl"
      },
      "source": [
        "def execute_strategy(ticker, start_date, end_date, strategy, strategy_param, stop_loss):\n",
        "  df = get_stock_backtest_data(ticker, start_date, end_date)\n",
        "\n",
        "  bt_df = prepare_stock_ta_backtest_data(\n",
        "      df, start_date, end_date, \n",
        "      strategy, **strategy_param)\n",
        "\n",
        "  result = run_stock_ta_backtest(bt_df, stop_loss_lvl=l)\n",
        "\n",
        "  return result\n",
        "\n",
        "\n",
        "# result = execute_strategy(\n",
        "#     ticker, start_date, end_date, \n",
        "#     top_strategy['strategy'], top_strategy['param'], top_strategy['stoploss']\n",
        "# )\n",
        "\n",
        "# result"
      ],
      "execution_count": null,
      "outputs": []
    },
    {
      "cell_type": "code",
      "metadata": {
        "id": "XEu9k6bJyiu_",
        "outputId": "7b88651c-52b8-4320-88a4-c73e5caeaa1d",
        "colab": {
          "base_uri": "https://localhost:8080/",
          "height": 352
        }
      },
      "source": [
        "df = get_stock_backtest_data('ISF.L', '2014-12-31', '2018-12-31')\n",
        "df[['Close']].plot(figsize=(15,5))"
      ],
      "execution_count": null,
      "outputs": [
        {
          "output_type": "stream",
          "text": [
            "\r[*********************100%***********************]  1 of 1 completed\n"
          ],
          "name": "stdout"
        },
        {
          "output_type": "execute_result",
          "data": {
            "text/plain": [
              "<matplotlib.axes._subplots.AxesSubplot at 0x7f9c4dc5ba20>"
            ]
          },
          "metadata": {
            "tags": []
          },
          "execution_count": 165
        },
        {
          "output_type": "display_data",
          "data": {
            "image/png": "[encoded data removed]",
            "text/plain": [
              "<Figure size 1080x360 with 1 Axes>"
            ]
          },
          "metadata": {
            "tags": [],
            "needs_background": "light"
          }
        }
      ]
    },
    {
      "cell_type": "code",
      "metadata": {
        "id": "Tlxn6mK5JHJ1"
      },
      "source": [
        "strategies = [\n",
        "  {\n",
        "    'func': strategy_KeltnerChannel_origin_long,\n",
        "    'param': {\n",
        "      'n': [i for i in range(10, 35, 5)]\n",
        "    }\n",
        "  },\n",
        "\n",
        "  {\n",
        "    'func': strategy_BollingerBands_long,\n",
        "    'param': {\n",
        "      'n': [i for i in range(10, 35, 5)],\n",
        "      'n_rng': [1, 2]\n",
        "    }\n",
        "  },\n",
        "\n",
        "  {\n",
        "    'func': strategy_MA_long,\n",
        "    'param': {\n",
        "      'n': [i for i in range(10, 110, 10)],\n",
        "      'ma_type': ['sma', 'ema']\n",
        "    }\n",
        "  },\n",
        "\n",
        "  {\n",
        "    'func': strategy_WR_long,\n",
        "    'param': {\n",
        "      'n': [i for i in range(5, 21)]\n",
        "    }\n",
        "  },\n",
        "\n",
        "  {\n",
        "    'func': strategy_Stochastic_fast_long,\n",
        "    'param': {\n",
        "      'k': [i for i in range(15, 26)],\n",
        "      'd': [i for i in range(5, 11)]\n",
        "    }\n",
        "  }\n",
        "]"
      ],
      "execution_count": null,
      "outputs": []
    },
    {
      "cell_type": "code",
      "metadata": {
        "id": "SClvtk4bzUGv",
        "outputId": "8f526ce0-2803-4d9b-864b-47a8fcedd919",
        "colab": {
          "base_uri": "https://localhost:8080/",
          "height": 68
        }
      },
      "source": [
        "top_strategy = pick_top_strategy('ISF.L', '2016-01-01', '2016-12-31', strategies)\n",
        "top_strategy"
      ],
      "execution_count": null,
      "outputs": [
        {
          "output_type": "execute_result",
          "data": {
            "text/plain": [
              "{'param': {'n': 10, 'n_rng': 2},\n",
              " 'stoploss': nan,\n",
              " 'strategy': <function __main__.strategy_BollingerBands_long>}"
            ]
          },
          "metadata": {
            "tags": []
          },
          "execution_count": 243
        }
      ]
    },
    {
      "cell_type": "code",
      "metadata": {
        "id": "x3Lrr8yQzpyJ",
        "outputId": "4ea2a939-705e-494b-bdd4-8bcab4c0121f",
        "colab": {
          "base_uri": "https://localhost:8080/",
          "height": 360
        }
      },
      "source": [
        "result = execute_strategy(\n",
        "  'ISF.L', '2019-01-01', '2019-06-30', \n",
        "  top_strategy['strategy'], top_strategy['param'], top_strategy['stoploss']\n",
        ")\n",
        "\n",
        "result['cum_ret_df'].plot(figsize=(15,5))"
      ],
      "execution_count": null,
      "outputs": [
        {
          "output_type": "stream",
          "text": [
            "\r[*********************100%***********************]  1 of 1 completed\n"
          ],
          "name": "stdout"
        },
        {
          "output_type": "execute_result",
          "data": {
            "text/plain": [
              "<matplotlib.axes._subplots.AxesSubplot at 0x7f9c4dacab00>"
            ]
          },
          "metadata": {
            "tags": []
          },
          "execution_count": 248
        },
        {
          "output_type": "display_data",
          "data": {
            "image/png": "[encoded data removed]",
            "text/plain": [
              "<Figure size 1080x360 with 1 Axes>"
            ]
          },
          "metadata": {
            "tags": [],
            "needs_background": "light"
          }
        }
      ]
    },
    {
      "cell_type": "code",
      "metadata": {
        "id": "l6Gu-7X8FFrK",
        "outputId": "bc09859d-c212-4f10-89f1-8e64c14dbc65",
        "colab": {
          "base_uri": "https://localhost:8080/",
          "height": 80
        }
      },
      "source": [
        "result['trade_stats']"
      ],
      "execution_count": null,
      "outputs": [
        {
          "output_type": "execute_result",
          "data": {
            "text/html": [
              "<div>\n",
              "<style scoped>\n",
              "    .dataframe tbody tr th:only-of-type {\n",
              "        vertical-align: middle;\n",
              "    }\n",
              "\n",
              "    .dataframe tbody tr th {\n",
              "        vertical-align: top;\n",
              "    }\n",
              "\n",
              "    .dataframe thead th {\n",
              "        text-align: right;\n",
              "    }\n",
              "</style>\n",
              "<table border=\"1\" class=\"dataframe\">\n",
              "  <thead>\n",
              "    <tr style=\"text-align: right;\">\n",
              "      <th></th>\n",
              "      <th>NUM_TRADES</th>\n",
              "      <th>NUM_TRADES_WIN</th>\n",
              "      <th>AVG_DAYS</th>\n",
              "      <th>AVG_RET</th>\n",
              "      <th>AVG_RET_WIN</th>\n",
              "      <th>AVG_RET_LOSS</th>\n",
              "      <th>STD_RET</th>\n",
              "    </tr>\n",
              "  </thead>\n",
              "  <tbody>\n",
              "    <tr>\n",
              "      <th>long</th>\n",
              "      <td>2</td>\n",
              "      <td>2</td>\n",
              "      <td>17.5</td>\n",
              "      <td>2.275411</td>\n",
              "      <td>2.275411</td>\n",
              "      <td>NaN</td>\n",
              "      <td>0.016747</td>\n",
              "    </tr>\n",
              "  </tbody>\n",
              "</table>\n",
              "</div>"
            ],
            "text/plain": [
              "      NUM_TRADES  NUM_TRADES_WIN  AVG_DAYS  ...  AVG_RET_WIN  AVG_RET_LOSS   STD_RET\n",
              "long           2               2      17.5  ...     2.275411           NaN  0.016747\n",
              "\n",
              "[1 rows x 7 columns]"
            ]
          },
          "metadata": {
            "tags": []
          },
          "execution_count": 249
        }
      ]
    },
    {
      "cell_type": "code",
      "metadata": {
        "id": "LTse9nUl4Rmr",
        "outputId": "2ba1ea08-3755-4515-8e09-90adb8ffa7f0",
        "colab": {
          "base_uri": "https://localhost:8080/",
          "height": 352
        }
      },
      "source": [
        "df = get_stock_backtest_data('ISF.L', '2014-12-31', '2019-06-30')\n",
        "df[['Close']].plot(figsize=(15,5))"
      ],
      "execution_count": null,
      "outputs": [
        {
          "output_type": "stream",
          "text": [
            "\r[*********************100%***********************]  1 of 1 completed\n"
          ],
          "name": "stdout"
        },
        {
          "output_type": "execute_result",
          "data": {
            "text/plain": [
              "<matplotlib.axes._subplots.AxesSubplot at 0x7f9c4d128f28>"
            ]
          },
          "metadata": {
            "tags": []
          },
          "execution_count": 250
        },
        {
          "output_type": "display_data",
          "data": {
            "image/png": "[encoded data removed]",
            "text/plain": [
              "<Figure size 1080x360 with 1 Axes>"
            ]
          },
          "metadata": {
            "tags": [],
            "needs_background": "light"
          }
        }
      ]
    },
    {
      "cell_type": "code",
      "metadata": {
        "id": "lUzcyaMgKm0K"
      },
      "source": [
        "strategies = [\n",
        "  {\n",
        "    'func': strategy_KeltnerChannel_origin,\n",
        "    'param': {\n",
        "      'n': [i for i in range(10, 35, 5)]\n",
        "    }\n",
        "  },\n",
        "\n",
        "  {\n",
        "    'func': strategy_BollingerBands,\n",
        "    'param': {\n",
        "      'n': [i for i in range(10, 35, 5)],\n",
        "      'n_rng': [1, 2]\n",
        "    }\n",
        "  },\n",
        "\n",
        "  {\n",
        "    'func': strategy_MA,\n",
        "    'param': {\n",
        "      'n': [i for i in range(10, 110, 10)],\n",
        "      'ma_type': ['sma', 'ema']\n",
        "    }\n",
        "  },\n",
        "\n",
        "  {\n",
        "    'func': strategy_WR,\n",
        "    'param': {\n",
        "      'n': [i for i in range(5, 21)]\n",
        "    }\n",
        "  },\n",
        "\n",
        "  {\n",
        "    'func': strategy_Stochastic_fast,\n",
        "    'param': {\n",
        "      'k': [i for i in range(15, 26)],\n",
        "      'd': [i for i in range(5, 11)]\n",
        "    }\n",
        "  }\n",
        "]"
      ],
      "execution_count": null,
      "outputs": []
    },
    {
      "cell_type": "code",
      "metadata": {
        "id": "AkVKkCCNEZDH",
        "outputId": "e16d9011-2ec8-4721-b24b-620a521a898c",
        "colab": {
          "base_uri": "https://localhost:8080/",
          "height": 68
        }
      },
      "source": [
        "top_strategy = pick_top_strategy('ISF.L', '2017-06-01', '2017-12-30', strategies)\n",
        "top_strategy"
      ],
      "execution_count": null,
      "outputs": [
        {
          "output_type": "execute_result",
          "data": {
            "text/plain": [
              "{'param': {'n': 20, 'n_rng': 1},\n",
              " 'stoploss': -3.0,\n",
              " 'strategy': <function __main__.strategy_BollingerBands>}"
            ]
          },
          "metadata": {
            "tags": []
          },
          "execution_count": 252
        }
      ]
    },
    {
      "cell_type": "code",
      "metadata": {
        "id": "-2AZmz-LEnt7",
        "outputId": "1e8fc6a6-f2c7-42db-f4a1-b61d3cda2c6a",
        "colab": {
          "base_uri": "https://localhost:8080/",
          "height": 360
        }
      },
      "source": [
        "result = execute_strategy(\n",
        "  'ISF.L', '2019-07-01', '2019-12-31', \n",
        "  top_strategy['strategy'], top_strategy['param'], top_strategy['stoploss']\n",
        ")\n",
        "\n",
        "result['cum_ret_df'].plot(figsize=(15,5))"
      ],
      "execution_count": null,
      "outputs": [
        {
          "output_type": "stream",
          "text": [
            "\r[*********************100%***********************]  1 of 1 completed\n"
          ],
          "name": "stdout"
        },
        {
          "output_type": "execute_result",
          "data": {
            "text/plain": [
              "<matplotlib.axes._subplots.AxesSubplot at 0x7f9c4d143c88>"
            ]
          },
          "metadata": {
            "tags": []
          },
          "execution_count": 253
        },
        {
          "output_type": "display_data",
          "data": {
            "image/png": "[encoded data removed]",
            "text/plain": [
              "<Figure size 1080x360 with 1 Axes>"
            ]
          },
          "metadata": {
            "tags": [],
            "needs_background": "light"
          }
        }
      ]
    },
    {
      "cell_type": "code",
      "metadata": {
        "id": "37SgNmBSFO6t",
        "outputId": "ac9d1637-0924-42f0-fa1c-98b880f2ad15",
        "colab": {
          "base_uri": "https://localhost:8080/",
          "height": 111
        }
      },
      "source": [
        "result['trade_stats']"
      ],
      "execution_count": null,
      "outputs": [
        {
          "output_type": "execute_result",
          "data": {
            "text/html": [
              "<div>\n",
              "<style scoped>\n",
              "    .dataframe tbody tr th:only-of-type {\n",
              "        vertical-align: middle;\n",
              "    }\n",
              "\n",
              "    .dataframe tbody tr th {\n",
              "        vertical-align: top;\n",
              "    }\n",
              "\n",
              "    .dataframe thead th {\n",
              "        text-align: right;\n",
              "    }\n",
              "</style>\n",
              "<table border=\"1\" class=\"dataframe\">\n",
              "  <thead>\n",
              "    <tr style=\"text-align: right;\">\n",
              "      <th></th>\n",
              "      <th>NUM_TRADES</th>\n",
              "      <th>NUM_TRADES_WIN</th>\n",
              "      <th>AVG_DAYS</th>\n",
              "      <th>AVG_RET</th>\n",
              "      <th>AVG_RET_WIN</th>\n",
              "      <th>AVG_RET_LOSS</th>\n",
              "      <th>STD_RET</th>\n",
              "    </tr>\n",
              "  </thead>\n",
              "  <tbody>\n",
              "    <tr>\n",
              "      <th>long</th>\n",
              "      <td>5</td>\n",
              "      <td>5</td>\n",
              "      <td>10.2</td>\n",
              "      <td>2.647828</td>\n",
              "      <td>2.647828</td>\n",
              "      <td>NaN</td>\n",
              "      <td>1.246396</td>\n",
              "    </tr>\n",
              "    <tr>\n",
              "      <th>short</th>\n",
              "      <td>5</td>\n",
              "      <td>5</td>\n",
              "      <td>13.6</td>\n",
              "      <td>2.772822</td>\n",
              "      <td>2.772822</td>\n",
              "      <td>NaN</td>\n",
              "      <td>1.276554</td>\n",
              "    </tr>\n",
              "  </tbody>\n",
              "</table>\n",
              "</div>"
            ],
            "text/plain": [
              "       NUM_TRADES  NUM_TRADES_WIN  ...  AVG_RET_LOSS   STD_RET\n",
              "long            5               5  ...           NaN  1.246396\n",
              "short           5               5  ...           NaN  1.276554\n",
              "\n",
              "[2 rows x 7 columns]"
            ]
          },
          "metadata": {
            "tags": []
          },
          "execution_count": 254
        }
      ]
    },
    {
      "cell_type": "code",
      "metadata": {
        "id": "vFMIYtHWLBvy"
      },
      "source": [
        ""
      ],
      "execution_count": null,
      "outputs": []
    }
  ]
}